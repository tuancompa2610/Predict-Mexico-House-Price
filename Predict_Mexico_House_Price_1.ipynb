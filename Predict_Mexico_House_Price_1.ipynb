{
  "cells": [
    {
      "cell_type": "markdown",
      "metadata": {
        "id": "view-in-github",
        "colab_type": "text"
      },
      "source": [
        "<a href=\"https://colab.research.google.com/github/tuancompa2610/Predict-Mexico-House-Price/blob/main/Predict_Mexico_House_Price_1.ipynb\" target=\"_parent\"><img src=\"https://colab.research.google.com/assets/colab-badge.svg\" alt=\"Open In Colab\"/></a>"
      ]
    },
    {
      "cell_type": "markdown",
      "metadata": {
        "id": "0YppkUIv02yE"
      },
      "source": [
        "# 1. Data Preparation"
      ]
    },
    {
      "cell_type": "code",
      "execution_count": 26,
      "metadata": {
        "colab": {
          "base_uri": "https://localhost:8080/"
        },
        "id": "t6oN5aQ207Qv",
        "outputId": "93ebc58f-6fdb-433e-93e5-c0f53eec52cc"
      },
      "outputs": [
        {
          "output_type": "stream",
          "name": "stdout",
          "text": [
            "Looking in indexes: https://pypi.org/simple, https://us-python.pkg.dev/colab-wheels/public/simple/\n",
            "Requirement already satisfied: category_encoders in /usr/local/lib/python3.8/dist-packages (2.6.0)\n",
            "Requirement already satisfied: scipy>=1.0.0 in /usr/local/lib/python3.8/dist-packages (from category_encoders) (1.7.3)\n",
            "Requirement already satisfied: numpy>=1.14.0 in /usr/local/lib/python3.8/dist-packages (from category_encoders) (1.21.6)\n",
            "Requirement already satisfied: pandas>=1.0.5 in /usr/local/lib/python3.8/dist-packages (from category_encoders) (1.3.5)\n",
            "Requirement already satisfied: patsy>=0.5.1 in /usr/local/lib/python3.8/dist-packages (from category_encoders) (0.5.3)\n",
            "Requirement already satisfied: scikit-learn>=0.20.0 in /usr/local/lib/python3.8/dist-packages (from category_encoders) (1.0.2)\n",
            "Requirement already satisfied: statsmodels>=0.9.0 in /usr/local/lib/python3.8/dist-packages (from category_encoders) (0.12.2)\n",
            "Requirement already satisfied: python-dateutil>=2.7.3 in /usr/local/lib/python3.8/dist-packages (from pandas>=1.0.5->category_encoders) (2.8.2)\n",
            "Requirement already satisfied: pytz>=2017.3 in /usr/local/lib/python3.8/dist-packages (from pandas>=1.0.5->category_encoders) (2022.7.1)\n",
            "Requirement already satisfied: six in /usr/local/lib/python3.8/dist-packages (from patsy>=0.5.1->category_encoders) (1.15.0)\n",
            "Requirement already satisfied: threadpoolctl>=2.0.0 in /usr/local/lib/python3.8/dist-packages (from scikit-learn>=0.20.0->category_encoders) (3.1.0)\n",
            "Requirement already satisfied: joblib>=0.11 in /usr/local/lib/python3.8/dist-packages (from scikit-learn>=0.20.0->category_encoders) (1.2.0)\n"
          ]
        }
      ],
      "source": [
        "# Import libraries\n",
        "!pip install category_encoders\n",
        "\n",
        "from glob import glob\n",
        "import plotly.express as px\n",
        "import plotly.graph_objects as go\n",
        "import matplotlib.pyplot as plt\n",
        "import seaborn as sns\n",
        "import pandas as pd\n",
        "import numpy as np\n",
        "\n",
        "from category_encoders import OneHotEncoder\n",
        "from ipywidgets import Dropdown, FloatSlider, IntSlider, interact\n",
        "from sklearn.impute import SimpleImputer\n",
        "from sklearn.linear_model import LinearRegression, Ridge\n",
        "from sklearn.metrics import mean_absolute_error\n",
        "from sklearn.pipeline import make_pipeline\n",
        "from sklearn.model_selection import train_test_split"
      ]
    },
    {
      "cell_type": "code",
      "execution_count": 2,
      "metadata": {
        "colab": {
          "base_uri": "https://localhost:8080/"
        },
        "id": "xpL9stFo5h1w",
        "outputId": "03b53674-284d-4d95-952b-92205a3dbb07"
      },
      "outputs": [
        {
          "output_type": "stream",
          "name": "stdout",
          "text": [
            "Drive already mounted at /content/drive; to attempt to forcibly remount, call drive.mount(\"/content/drive\", force_remount=True).\n"
          ]
        }
      ],
      "source": [
        "from google.colab import drive\n",
        "drive.mount('/content/drive')"
      ]
    },
    {
      "cell_type": "code",
      "execution_count": 3,
      "metadata": {
        "colab": {
          "base_uri": "https://localhost:8080/",
          "height": 357
        },
        "id": "yddgDLVw-w7v",
        "outputId": "8340fc0a-cfec-4009-a822-af60ed74df27"
      },
      "outputs": [
        {
          "output_type": "execute_result",
          "data": {
            "text/plain": [
              "  operation property_type                   place_with_parent_names  \\\n",
              "1      sell     apartment  |Miguel Hidalgo|Distrito Federal|México|   \n",
              "2      sell         house      |Iztapalapa|Distrito Federal|México|   \n",
              "3      sell     apartment         |Tlalpan|Distrito Federal|México|   \n",
              "4      sell     apartment  |Miguel Hidalgo|Distrito Federal|México|   \n",
              "5      sell     apartment       |Benito Juárez|Quintana Roo|México|   \n",
              "\n",
              "                  lat-lon      price currency  price_aprox_local_currency  \\\n",
              "1   23.634501,-102.552788  5500000.0      MXN                  5450245.50   \n",
              "2     19.31033,-99.068557  1512000.0      MXN                  1498321.97   \n",
              "3    19.279771,-99.234597   926667.0      MXN                   918284.00   \n",
              "4   23.634501,-102.552788  6410000.0      MXN                  6352013.39   \n",
              "5  21.1902642,-86.8198375   875000.0      USD                 16457437.50   \n",
              "\n",
              "   price_aprox_usd  surface_total_in_m2  surface_covered_in_m2  \\\n",
              "1        289775.66                  NaN                   54.0   \n",
              "2         79661.96                  NaN                   80.0   \n",
              "3         48822.82                  NaN                  100.0   \n",
              "4        337720.36                  NaN                  135.0   \n",
              "5        875000.00                  0.0                  263.0   \n",
              "\n",
              "   price_usd_per_m2   price_per_m2  floor  rooms  expenses  \\\n",
              "1               NaN  101851.851900    NaN    NaN       NaN   \n",
              "2               NaN   18900.000000    NaN    NaN       NaN   \n",
              "3               NaN    9266.670000    NaN    NaN       NaN   \n",
              "4               NaN   47481.481480    NaN    NaN       NaN   \n",
              "5               NaN    3326.996198    NaN    NaN       NaN   \n",
              "\n",
              "                                       properati_url  \n",
              "1  http://miguel-hidalgo-df.properati.com.mx/o3zb...  \n",
              "2  http://iztapalapa.properati.com.mx/q7t0_venta_...  \n",
              "3  http://tlalpan.properati.com.mx/qbi4_venta_dep...  \n",
              "4  http://miguel-hidalgo-df.properati.com.mx/opeq...  \n",
              "5  http://cancun.properati.com.mx/hg4t_venta_depa...  "
            ],
            "text/html": [
              "\n",
              "  <div id=\"df-facba771-6671-4e59-a68c-2ad7c1314e9a\">\n",
              "    <div class=\"colab-df-container\">\n",
              "      <div>\n",
              "<style scoped>\n",
              "    .dataframe tbody tr th:only-of-type {\n",
              "        vertical-align: middle;\n",
              "    }\n",
              "\n",
              "    .dataframe tbody tr th {\n",
              "        vertical-align: top;\n",
              "    }\n",
              "\n",
              "    .dataframe thead th {\n",
              "        text-align: right;\n",
              "    }\n",
              "</style>\n",
              "<table border=\"1\" class=\"dataframe\">\n",
              "  <thead>\n",
              "    <tr style=\"text-align: right;\">\n",
              "      <th></th>\n",
              "      <th>operation</th>\n",
              "      <th>property_type</th>\n",
              "      <th>place_with_parent_names</th>\n",
              "      <th>lat-lon</th>\n",
              "      <th>price</th>\n",
              "      <th>currency</th>\n",
              "      <th>price_aprox_local_currency</th>\n",
              "      <th>price_aprox_usd</th>\n",
              "      <th>surface_total_in_m2</th>\n",
              "      <th>surface_covered_in_m2</th>\n",
              "      <th>price_usd_per_m2</th>\n",
              "      <th>price_per_m2</th>\n",
              "      <th>floor</th>\n",
              "      <th>rooms</th>\n",
              "      <th>expenses</th>\n",
              "      <th>properati_url</th>\n",
              "    </tr>\n",
              "  </thead>\n",
              "  <tbody>\n",
              "    <tr>\n",
              "      <th>1</th>\n",
              "      <td>sell</td>\n",
              "      <td>apartment</td>\n",
              "      <td>|Miguel Hidalgo|Distrito Federal|México|</td>\n",
              "      <td>23.634501,-102.552788</td>\n",
              "      <td>5500000.0</td>\n",
              "      <td>MXN</td>\n",
              "      <td>5450245.50</td>\n",
              "      <td>289775.66</td>\n",
              "      <td>NaN</td>\n",
              "      <td>54.0</td>\n",
              "      <td>NaN</td>\n",
              "      <td>101851.851900</td>\n",
              "      <td>NaN</td>\n",
              "      <td>NaN</td>\n",
              "      <td>NaN</td>\n",
              "      <td>http://miguel-hidalgo-df.properati.com.mx/o3zb...</td>\n",
              "    </tr>\n",
              "    <tr>\n",
              "      <th>2</th>\n",
              "      <td>sell</td>\n",
              "      <td>house</td>\n",
              "      <td>|Iztapalapa|Distrito Federal|México|</td>\n",
              "      <td>19.31033,-99.068557</td>\n",
              "      <td>1512000.0</td>\n",
              "      <td>MXN</td>\n",
              "      <td>1498321.97</td>\n",
              "      <td>79661.96</td>\n",
              "      <td>NaN</td>\n",
              "      <td>80.0</td>\n",
              "      <td>NaN</td>\n",
              "      <td>18900.000000</td>\n",
              "      <td>NaN</td>\n",
              "      <td>NaN</td>\n",
              "      <td>NaN</td>\n",
              "      <td>http://iztapalapa.properati.com.mx/q7t0_venta_...</td>\n",
              "    </tr>\n",
              "    <tr>\n",
              "      <th>3</th>\n",
              "      <td>sell</td>\n",
              "      <td>apartment</td>\n",
              "      <td>|Tlalpan|Distrito Federal|México|</td>\n",
              "      <td>19.279771,-99.234597</td>\n",
              "      <td>926667.0</td>\n",
              "      <td>MXN</td>\n",
              "      <td>918284.00</td>\n",
              "      <td>48822.82</td>\n",
              "      <td>NaN</td>\n",
              "      <td>100.0</td>\n",
              "      <td>NaN</td>\n",
              "      <td>9266.670000</td>\n",
              "      <td>NaN</td>\n",
              "      <td>NaN</td>\n",
              "      <td>NaN</td>\n",
              "      <td>http://tlalpan.properati.com.mx/qbi4_venta_dep...</td>\n",
              "    </tr>\n",
              "    <tr>\n",
              "      <th>4</th>\n",
              "      <td>sell</td>\n",
              "      <td>apartment</td>\n",
              "      <td>|Miguel Hidalgo|Distrito Federal|México|</td>\n",
              "      <td>23.634501,-102.552788</td>\n",
              "      <td>6410000.0</td>\n",
              "      <td>MXN</td>\n",
              "      <td>6352013.39</td>\n",
              "      <td>337720.36</td>\n",
              "      <td>NaN</td>\n",
              "      <td>135.0</td>\n",
              "      <td>NaN</td>\n",
              "      <td>47481.481480</td>\n",
              "      <td>NaN</td>\n",
              "      <td>NaN</td>\n",
              "      <td>NaN</td>\n",
              "      <td>http://miguel-hidalgo-df.properati.com.mx/opeq...</td>\n",
              "    </tr>\n",
              "    <tr>\n",
              "      <th>5</th>\n",
              "      <td>sell</td>\n",
              "      <td>apartment</td>\n",
              "      <td>|Benito Juárez|Quintana Roo|México|</td>\n",
              "      <td>21.1902642,-86.8198375</td>\n",
              "      <td>875000.0</td>\n",
              "      <td>USD</td>\n",
              "      <td>16457437.50</td>\n",
              "      <td>875000.00</td>\n",
              "      <td>0.0</td>\n",
              "      <td>263.0</td>\n",
              "      <td>NaN</td>\n",
              "      <td>3326.996198</td>\n",
              "      <td>NaN</td>\n",
              "      <td>NaN</td>\n",
              "      <td>NaN</td>\n",
              "      <td>http://cancun.properati.com.mx/hg4t_venta_depa...</td>\n",
              "    </tr>\n",
              "  </tbody>\n",
              "</table>\n",
              "</div>\n",
              "      <button class=\"colab-df-convert\" onclick=\"convertToInteractive('df-facba771-6671-4e59-a68c-2ad7c1314e9a')\"\n",
              "              title=\"Convert this dataframe to an interactive table.\"\n",
              "              style=\"display:none;\">\n",
              "        \n",
              "  <svg xmlns=\"http://www.w3.org/2000/svg\" height=\"24px\"viewBox=\"0 0 24 24\"\n",
              "       width=\"24px\">\n",
              "    <path d=\"M0 0h24v24H0V0z\" fill=\"none\"/>\n",
              "    <path d=\"M18.56 5.44l.94 2.06.94-2.06 2.06-.94-2.06-.94-.94-2.06-.94 2.06-2.06.94zm-11 1L8.5 8.5l.94-2.06 2.06-.94-2.06-.94L8.5 2.5l-.94 2.06-2.06.94zm10 10l.94 2.06.94-2.06 2.06-.94-2.06-.94-.94-2.06-.94 2.06-2.06.94z\"/><path d=\"M17.41 7.96l-1.37-1.37c-.4-.4-.92-.59-1.43-.59-.52 0-1.04.2-1.43.59L10.3 9.45l-7.72 7.72c-.78.78-.78 2.05 0 2.83L4 21.41c.39.39.9.59 1.41.59.51 0 1.02-.2 1.41-.59l7.78-7.78 2.81-2.81c.8-.78.8-2.07 0-2.86zM5.41 20L4 18.59l7.72-7.72 1.47 1.35L5.41 20z\"/>\n",
              "  </svg>\n",
              "      </button>\n",
              "      \n",
              "  <style>\n",
              "    .colab-df-container {\n",
              "      display:flex;\n",
              "      flex-wrap:wrap;\n",
              "      gap: 12px;\n",
              "    }\n",
              "\n",
              "    .colab-df-convert {\n",
              "      background-color: #E8F0FE;\n",
              "      border: none;\n",
              "      border-radius: 50%;\n",
              "      cursor: pointer;\n",
              "      display: none;\n",
              "      fill: #1967D2;\n",
              "      height: 32px;\n",
              "      padding: 0 0 0 0;\n",
              "      width: 32px;\n",
              "    }\n",
              "\n",
              "    .colab-df-convert:hover {\n",
              "      background-color: #E2EBFA;\n",
              "      box-shadow: 0px 1px 2px rgba(60, 64, 67, 0.3), 0px 1px 3px 1px rgba(60, 64, 67, 0.15);\n",
              "      fill: #174EA6;\n",
              "    }\n",
              "\n",
              "    [theme=dark] .colab-df-convert {\n",
              "      background-color: #3B4455;\n",
              "      fill: #D2E3FC;\n",
              "    }\n",
              "\n",
              "    [theme=dark] .colab-df-convert:hover {\n",
              "      background-color: #434B5C;\n",
              "      box-shadow: 0px 1px 3px 1px rgba(0, 0, 0, 0.15);\n",
              "      filter: drop-shadow(0px 1px 2px rgba(0, 0, 0, 0.3));\n",
              "      fill: #FFFFFF;\n",
              "    }\n",
              "  </style>\n",
              "\n",
              "      <script>\n",
              "        const buttonEl =\n",
              "          document.querySelector('#df-facba771-6671-4e59-a68c-2ad7c1314e9a button.colab-df-convert');\n",
              "        buttonEl.style.display =\n",
              "          google.colab.kernel.accessAllowed ? 'block' : 'none';\n",
              "\n",
              "        async function convertToInteractive(key) {\n",
              "          const element = document.querySelector('#df-facba771-6671-4e59-a68c-2ad7c1314e9a');\n",
              "          const dataTable =\n",
              "            await google.colab.kernel.invokeFunction('convertToInteractive',\n",
              "                                                     [key], {});\n",
              "          if (!dataTable) return;\n",
              "\n",
              "          const docLinkHtml = 'Like what you see? Visit the ' +\n",
              "            '<a target=\"_blank\" href=https://colab.research.google.com/notebooks/data_table.ipynb>data table notebook</a>'\n",
              "            + ' to learn more about interactive tables.';\n",
              "          element.innerHTML = '';\n",
              "          dataTable['output_type'] = 'display_data';\n",
              "          await google.colab.output.renderOutput(dataTable, element);\n",
              "          const docLink = document.createElement('div');\n",
              "          docLink.innerHTML = docLinkHtml;\n",
              "          element.appendChild(docLink);\n",
              "        }\n",
              "      </script>\n",
              "    </div>\n",
              "  </div>\n",
              "  "
            ]
          },
          "metadata": {},
          "execution_count": 3
        }
      ],
      "source": [
        "df = pd.read_csv(\"/content/drive/MyDrive/mexico-house/mexico-city-real-estate-1.csv\", index_col = 0)\n",
        "df.head()"
      ]
    },
    {
      "cell_type": "markdown",
      "source": [
        "# 2. Feature Engineering"
      ],
      "metadata": {
        "id": "DkxgAdb6hKqO"
      }
    },
    {
      "cell_type": "code",
      "execution_count": 4,
      "metadata": {
        "colab": {
          "base_uri": "https://localhost:8080/",
          "height": 357
        },
        "id": "oFFB95NIP2kl",
        "outputId": "6c0b6d05-ecc8-43c7-e9fe-aa4f59404acd"
      },
      "outputs": [
        {
          "output_type": "execute_result",
          "data": {
            "text/plain": [
              "   operation property_type                  place_with_parent_names  \\\n",
              "3       sell     apartment        |Tlalpan|Distrito Federal|México|   \n",
              "12      sell     apartment  |Benito Juárez|Distrito Federal|México|   \n",
              "15      sell     apartment  |Benito Juárez|Distrito Federal|México|   \n",
              "21      sell     apartment      |Iztacalco|Distrito Federal|México|   \n",
              "22      sell     apartment  |Benito Juárez|Distrito Federal|México|   \n",
              "\n",
              "                   lat-lon      price currency  price_aprox_local_currency  \\\n",
              "3     19.279771,-99.234597   926667.0      MXN                   918284.00   \n",
              "12   23.634501,-102.552788  1784569.0      MXN                  1768425.20   \n",
              "15     19.36269,-99.150565  1260000.0      MXN                  1248601.52   \n",
              "21  19.4024128,-99.0953907  1345000.0      MXN                  1333148.73   \n",
              "22     19.35782,-99.149406  1295000.0      MXN                  1283284.95   \n",
              "\n",
              "    price_aprox_usd  surface_total_in_m2  surface_covered_in_m2  \\\n",
              "3          48822.82                  NaN                  100.0   \n",
              "12         94022.66                  NaN                   57.0   \n",
              "15         66384.96                  NaN                  103.0   \n",
              "21         70880.12                 56.0                   56.0   \n",
              "22         68228.99                  NaN                   80.0   \n",
              "\n",
              "    price_usd_per_m2  price_per_m2  floor  rooms  expenses  \\\n",
              "3                NaN    9266.67000    NaN    NaN       NaN   \n",
              "12               NaN   31308.22807    NaN    NaN       NaN   \n",
              "15               NaN   12233.00971    NaN    NaN       NaN   \n",
              "21       1265.716429   24017.85714    NaN    NaN       NaN   \n",
              "22               NaN   16187.50000    NaN    NaN       NaN   \n",
              "\n",
              "                                        properati_url  \n",
              "3   http://tlalpan.properati.com.mx/qbi4_venta_dep...  \n",
              "12  http://benito-juarez.properati.com.mx/pdji_ven...  \n",
              "15  http://benito-juarez.properati.com.mx/onph_ven...  \n",
              "21  http://iztacalco.properati.com.mx/r6gm_venta_d...  \n",
              "22  http://benito-juarez.properati.com.mx/qvop_ven...  "
            ],
            "text/html": [
              "\n",
              "  <div id=\"df-03728d17-f2cc-47f3-b14f-15f80dbf57e0\">\n",
              "    <div class=\"colab-df-container\">\n",
              "      <div>\n",
              "<style scoped>\n",
              "    .dataframe tbody tr th:only-of-type {\n",
              "        vertical-align: middle;\n",
              "    }\n",
              "\n",
              "    .dataframe tbody tr th {\n",
              "        vertical-align: top;\n",
              "    }\n",
              "\n",
              "    .dataframe thead th {\n",
              "        text-align: right;\n",
              "    }\n",
              "</style>\n",
              "<table border=\"1\" class=\"dataframe\">\n",
              "  <thead>\n",
              "    <tr style=\"text-align: right;\">\n",
              "      <th></th>\n",
              "      <th>operation</th>\n",
              "      <th>property_type</th>\n",
              "      <th>place_with_parent_names</th>\n",
              "      <th>lat-lon</th>\n",
              "      <th>price</th>\n",
              "      <th>currency</th>\n",
              "      <th>price_aprox_local_currency</th>\n",
              "      <th>price_aprox_usd</th>\n",
              "      <th>surface_total_in_m2</th>\n",
              "      <th>surface_covered_in_m2</th>\n",
              "      <th>price_usd_per_m2</th>\n",
              "      <th>price_per_m2</th>\n",
              "      <th>floor</th>\n",
              "      <th>rooms</th>\n",
              "      <th>expenses</th>\n",
              "      <th>properati_url</th>\n",
              "    </tr>\n",
              "  </thead>\n",
              "  <tbody>\n",
              "    <tr>\n",
              "      <th>3</th>\n",
              "      <td>sell</td>\n",
              "      <td>apartment</td>\n",
              "      <td>|Tlalpan|Distrito Federal|México|</td>\n",
              "      <td>19.279771,-99.234597</td>\n",
              "      <td>926667.0</td>\n",
              "      <td>MXN</td>\n",
              "      <td>918284.00</td>\n",
              "      <td>48822.82</td>\n",
              "      <td>NaN</td>\n",
              "      <td>100.0</td>\n",
              "      <td>NaN</td>\n",
              "      <td>9266.67000</td>\n",
              "      <td>NaN</td>\n",
              "      <td>NaN</td>\n",
              "      <td>NaN</td>\n",
              "      <td>http://tlalpan.properati.com.mx/qbi4_venta_dep...</td>\n",
              "    </tr>\n",
              "    <tr>\n",
              "      <th>12</th>\n",
              "      <td>sell</td>\n",
              "      <td>apartment</td>\n",
              "      <td>|Benito Juárez|Distrito Federal|México|</td>\n",
              "      <td>23.634501,-102.552788</td>\n",
              "      <td>1784569.0</td>\n",
              "      <td>MXN</td>\n",
              "      <td>1768425.20</td>\n",
              "      <td>94022.66</td>\n",
              "      <td>NaN</td>\n",
              "      <td>57.0</td>\n",
              "      <td>NaN</td>\n",
              "      <td>31308.22807</td>\n",
              "      <td>NaN</td>\n",
              "      <td>NaN</td>\n",
              "      <td>NaN</td>\n",
              "      <td>http://benito-juarez.properati.com.mx/pdji_ven...</td>\n",
              "    </tr>\n",
              "    <tr>\n",
              "      <th>15</th>\n",
              "      <td>sell</td>\n",
              "      <td>apartment</td>\n",
              "      <td>|Benito Juárez|Distrito Federal|México|</td>\n",
              "      <td>19.36269,-99.150565</td>\n",
              "      <td>1260000.0</td>\n",
              "      <td>MXN</td>\n",
              "      <td>1248601.52</td>\n",
              "      <td>66384.96</td>\n",
              "      <td>NaN</td>\n",
              "      <td>103.0</td>\n",
              "      <td>NaN</td>\n",
              "      <td>12233.00971</td>\n",
              "      <td>NaN</td>\n",
              "      <td>NaN</td>\n",
              "      <td>NaN</td>\n",
              "      <td>http://benito-juarez.properati.com.mx/onph_ven...</td>\n",
              "    </tr>\n",
              "    <tr>\n",
              "      <th>21</th>\n",
              "      <td>sell</td>\n",
              "      <td>apartment</td>\n",
              "      <td>|Iztacalco|Distrito Federal|México|</td>\n",
              "      <td>19.4024128,-99.0953907</td>\n",
              "      <td>1345000.0</td>\n",
              "      <td>MXN</td>\n",
              "      <td>1333148.73</td>\n",
              "      <td>70880.12</td>\n",
              "      <td>56.0</td>\n",
              "      <td>56.0</td>\n",
              "      <td>1265.716429</td>\n",
              "      <td>24017.85714</td>\n",
              "      <td>NaN</td>\n",
              "      <td>NaN</td>\n",
              "      <td>NaN</td>\n",
              "      <td>http://iztacalco.properati.com.mx/r6gm_venta_d...</td>\n",
              "    </tr>\n",
              "    <tr>\n",
              "      <th>22</th>\n",
              "      <td>sell</td>\n",
              "      <td>apartment</td>\n",
              "      <td>|Benito Juárez|Distrito Federal|México|</td>\n",
              "      <td>19.35782,-99.149406</td>\n",
              "      <td>1295000.0</td>\n",
              "      <td>MXN</td>\n",
              "      <td>1283284.95</td>\n",
              "      <td>68228.99</td>\n",
              "      <td>NaN</td>\n",
              "      <td>80.0</td>\n",
              "      <td>NaN</td>\n",
              "      <td>16187.50000</td>\n",
              "      <td>NaN</td>\n",
              "      <td>NaN</td>\n",
              "      <td>NaN</td>\n",
              "      <td>http://benito-juarez.properati.com.mx/qvop_ven...</td>\n",
              "    </tr>\n",
              "  </tbody>\n",
              "</table>\n",
              "</div>\n",
              "      <button class=\"colab-df-convert\" onclick=\"convertToInteractive('df-03728d17-f2cc-47f3-b14f-15f80dbf57e0')\"\n",
              "              title=\"Convert this dataframe to an interactive table.\"\n",
              "              style=\"display:none;\">\n",
              "        \n",
              "  <svg xmlns=\"http://www.w3.org/2000/svg\" height=\"24px\"viewBox=\"0 0 24 24\"\n",
              "       width=\"24px\">\n",
              "    <path d=\"M0 0h24v24H0V0z\" fill=\"none\"/>\n",
              "    <path d=\"M18.56 5.44l.94 2.06.94-2.06 2.06-.94-2.06-.94-.94-2.06-.94 2.06-2.06.94zm-11 1L8.5 8.5l.94-2.06 2.06-.94-2.06-.94L8.5 2.5l-.94 2.06-2.06.94zm10 10l.94 2.06.94-2.06 2.06-.94-2.06-.94-.94-2.06-.94 2.06-2.06.94z\"/><path d=\"M17.41 7.96l-1.37-1.37c-.4-.4-.92-.59-1.43-.59-.52 0-1.04.2-1.43.59L10.3 9.45l-7.72 7.72c-.78.78-.78 2.05 0 2.83L4 21.41c.39.39.9.59 1.41.59.51 0 1.02-.2 1.41-.59l7.78-7.78 2.81-2.81c.8-.78.8-2.07 0-2.86zM5.41 20L4 18.59l7.72-7.72 1.47 1.35L5.41 20z\"/>\n",
              "  </svg>\n",
              "      </button>\n",
              "      \n",
              "  <style>\n",
              "    .colab-df-container {\n",
              "      display:flex;\n",
              "      flex-wrap:wrap;\n",
              "      gap: 12px;\n",
              "    }\n",
              "\n",
              "    .colab-df-convert {\n",
              "      background-color: #E8F0FE;\n",
              "      border: none;\n",
              "      border-radius: 50%;\n",
              "      cursor: pointer;\n",
              "      display: none;\n",
              "      fill: #1967D2;\n",
              "      height: 32px;\n",
              "      padding: 0 0 0 0;\n",
              "      width: 32px;\n",
              "    }\n",
              "\n",
              "    .colab-df-convert:hover {\n",
              "      background-color: #E2EBFA;\n",
              "      box-shadow: 0px 1px 2px rgba(60, 64, 67, 0.3), 0px 1px 3px 1px rgba(60, 64, 67, 0.15);\n",
              "      fill: #174EA6;\n",
              "    }\n",
              "\n",
              "    [theme=dark] .colab-df-convert {\n",
              "      background-color: #3B4455;\n",
              "      fill: #D2E3FC;\n",
              "    }\n",
              "\n",
              "    [theme=dark] .colab-df-convert:hover {\n",
              "      background-color: #434B5C;\n",
              "      box-shadow: 0px 1px 3px 1px rgba(0, 0, 0, 0.15);\n",
              "      filter: drop-shadow(0px 1px 2px rgba(0, 0, 0, 0.3));\n",
              "      fill: #FFFFFF;\n",
              "    }\n",
              "  </style>\n",
              "\n",
              "      <script>\n",
              "        const buttonEl =\n",
              "          document.querySelector('#df-03728d17-f2cc-47f3-b14f-15f80dbf57e0 button.colab-df-convert');\n",
              "        buttonEl.style.display =\n",
              "          google.colab.kernel.accessAllowed ? 'block' : 'none';\n",
              "\n",
              "        async function convertToInteractive(key) {\n",
              "          const element = document.querySelector('#df-03728d17-f2cc-47f3-b14f-15f80dbf57e0');\n",
              "          const dataTable =\n",
              "            await google.colab.kernel.invokeFunction('convertToInteractive',\n",
              "                                                     [key], {});\n",
              "          if (!dataTable) return;\n",
              "\n",
              "          const docLinkHtml = 'Like what you see? Visit the ' +\n",
              "            '<a target=\"_blank\" href=https://colab.research.google.com/notebooks/data_table.ipynb>data table notebook</a>'\n",
              "            + ' to learn more about interactive tables.';\n",
              "          element.innerHTML = '';\n",
              "          dataTable['output_type'] = 'display_data';\n",
              "          await google.colab.output.renderOutput(dataTable, element);\n",
              "          const docLink = document.createElement('div');\n",
              "          docLink.innerHTML = docLinkHtml;\n",
              "          element.appendChild(docLink);\n",
              "        }\n",
              "      </script>\n",
              "    </div>\n",
              "  </div>\n",
              "  "
            ]
          },
          "metadata": {},
          "execution_count": 4
        }
      ],
      "source": [
        "# To be more specific I will only focus on apartments in \"Distrito Federal\n",
        "# which cost less than $100000\n",
        "mask_apt = df[\"place_with_parent_names\"].str.contains(\"Distrito Federal\")\n",
        "mask_price = df['price_aprox_usd'] < 100000\n",
        "mask_prt = df['property_type'] == \"apartment\"\n",
        "df = df[mask_apt & mask_price & mask_prt]\n",
        "df.head()"
      ]
    },
    {
      "cell_type": "code",
      "execution_count": 5,
      "metadata": {
        "colab": {
          "base_uri": "https://localhost:8080/",
          "height": 357
        },
        "id": "0CBi-Z57nEEn",
        "outputId": "c01411ff-3a35-46db-ea41-75a4a9857324"
      },
      "outputs": [
        {
          "output_type": "execute_result",
          "data": {
            "text/plain": [
              "   operation property_type                  place_with_parent_names  \\\n",
              "3       sell     apartment        |Tlalpan|Distrito Federal|México|   \n",
              "12      sell     apartment  |Benito Juárez|Distrito Federal|México|   \n",
              "15      sell     apartment  |Benito Juárez|Distrito Federal|México|   \n",
              "21      sell     apartment      |Iztacalco|Distrito Federal|México|   \n",
              "22      sell     apartment  |Benito Juárez|Distrito Federal|México|   \n",
              "\n",
              "        price currency  price_aprox_local_currency  price_aprox_usd  \\\n",
              "3    926667.0      MXN                   918284.00         48822.82   \n",
              "12  1784569.0      MXN                  1768425.20         94022.66   \n",
              "15  1260000.0      MXN                  1248601.52         66384.96   \n",
              "21  1345000.0      MXN                  1333148.73         70880.12   \n",
              "22  1295000.0      MXN                  1283284.95         68228.99   \n",
              "\n",
              "    surface_total_in_m2  surface_covered_in_m2  price_usd_per_m2  \\\n",
              "3                   NaN                  100.0               NaN   \n",
              "12                  NaN                   57.0               NaN   \n",
              "15                  NaN                  103.0               NaN   \n",
              "21                 56.0                   56.0       1265.716429   \n",
              "22                  NaN                   80.0               NaN   \n",
              "\n",
              "    price_per_m2  floor  rooms  expenses  \\\n",
              "3     9266.67000    NaN    NaN       NaN   \n",
              "12   31308.22807    NaN    NaN       NaN   \n",
              "15   12233.00971    NaN    NaN       NaN   \n",
              "21   24017.85714    NaN    NaN       NaN   \n",
              "22   16187.50000    NaN    NaN       NaN   \n",
              "\n",
              "                                        properati_url        lat         lon  \n",
              "3   http://tlalpan.properati.com.mx/qbi4_venta_dep...  19.279771  -99.234597  \n",
              "12  http://benito-juarez.properati.com.mx/pdji_ven...  23.634501 -102.552788  \n",
              "15  http://benito-juarez.properati.com.mx/onph_ven...  19.362690  -99.150565  \n",
              "21  http://iztacalco.properati.com.mx/r6gm_venta_d...  19.402413  -99.095391  \n",
              "22  http://benito-juarez.properati.com.mx/qvop_ven...  19.357820  -99.149406  "
            ],
            "text/html": [
              "\n",
              "  <div id=\"df-53829fe3-7d41-4a44-9d48-306ab9285b9c\">\n",
              "    <div class=\"colab-df-container\">\n",
              "      <div>\n",
              "<style scoped>\n",
              "    .dataframe tbody tr th:only-of-type {\n",
              "        vertical-align: middle;\n",
              "    }\n",
              "\n",
              "    .dataframe tbody tr th {\n",
              "        vertical-align: top;\n",
              "    }\n",
              "\n",
              "    .dataframe thead th {\n",
              "        text-align: right;\n",
              "    }\n",
              "</style>\n",
              "<table border=\"1\" class=\"dataframe\">\n",
              "  <thead>\n",
              "    <tr style=\"text-align: right;\">\n",
              "      <th></th>\n",
              "      <th>operation</th>\n",
              "      <th>property_type</th>\n",
              "      <th>place_with_parent_names</th>\n",
              "      <th>price</th>\n",
              "      <th>currency</th>\n",
              "      <th>price_aprox_local_currency</th>\n",
              "      <th>price_aprox_usd</th>\n",
              "      <th>surface_total_in_m2</th>\n",
              "      <th>surface_covered_in_m2</th>\n",
              "      <th>price_usd_per_m2</th>\n",
              "      <th>price_per_m2</th>\n",
              "      <th>floor</th>\n",
              "      <th>rooms</th>\n",
              "      <th>expenses</th>\n",
              "      <th>properati_url</th>\n",
              "      <th>lat</th>\n",
              "      <th>lon</th>\n",
              "    </tr>\n",
              "  </thead>\n",
              "  <tbody>\n",
              "    <tr>\n",
              "      <th>3</th>\n",
              "      <td>sell</td>\n",
              "      <td>apartment</td>\n",
              "      <td>|Tlalpan|Distrito Federal|México|</td>\n",
              "      <td>926667.0</td>\n",
              "      <td>MXN</td>\n",
              "      <td>918284.00</td>\n",
              "      <td>48822.82</td>\n",
              "      <td>NaN</td>\n",
              "      <td>100.0</td>\n",
              "      <td>NaN</td>\n",
              "      <td>9266.67000</td>\n",
              "      <td>NaN</td>\n",
              "      <td>NaN</td>\n",
              "      <td>NaN</td>\n",
              "      <td>http://tlalpan.properati.com.mx/qbi4_venta_dep...</td>\n",
              "      <td>19.279771</td>\n",
              "      <td>-99.234597</td>\n",
              "    </tr>\n",
              "    <tr>\n",
              "      <th>12</th>\n",
              "      <td>sell</td>\n",
              "      <td>apartment</td>\n",
              "      <td>|Benito Juárez|Distrito Federal|México|</td>\n",
              "      <td>1784569.0</td>\n",
              "      <td>MXN</td>\n",
              "      <td>1768425.20</td>\n",
              "      <td>94022.66</td>\n",
              "      <td>NaN</td>\n",
              "      <td>57.0</td>\n",
              "      <td>NaN</td>\n",
              "      <td>31308.22807</td>\n",
              "      <td>NaN</td>\n",
              "      <td>NaN</td>\n",
              "      <td>NaN</td>\n",
              "      <td>http://benito-juarez.properati.com.mx/pdji_ven...</td>\n",
              "      <td>23.634501</td>\n",
              "      <td>-102.552788</td>\n",
              "    </tr>\n",
              "    <tr>\n",
              "      <th>15</th>\n",
              "      <td>sell</td>\n",
              "      <td>apartment</td>\n",
              "      <td>|Benito Juárez|Distrito Federal|México|</td>\n",
              "      <td>1260000.0</td>\n",
              "      <td>MXN</td>\n",
              "      <td>1248601.52</td>\n",
              "      <td>66384.96</td>\n",
              "      <td>NaN</td>\n",
              "      <td>103.0</td>\n",
              "      <td>NaN</td>\n",
              "      <td>12233.00971</td>\n",
              "      <td>NaN</td>\n",
              "      <td>NaN</td>\n",
              "      <td>NaN</td>\n",
              "      <td>http://benito-juarez.properati.com.mx/onph_ven...</td>\n",
              "      <td>19.362690</td>\n",
              "      <td>-99.150565</td>\n",
              "    </tr>\n",
              "    <tr>\n",
              "      <th>21</th>\n",
              "      <td>sell</td>\n",
              "      <td>apartment</td>\n",
              "      <td>|Iztacalco|Distrito Federal|México|</td>\n",
              "      <td>1345000.0</td>\n",
              "      <td>MXN</td>\n",
              "      <td>1333148.73</td>\n",
              "      <td>70880.12</td>\n",
              "      <td>56.0</td>\n",
              "      <td>56.0</td>\n",
              "      <td>1265.716429</td>\n",
              "      <td>24017.85714</td>\n",
              "      <td>NaN</td>\n",
              "      <td>NaN</td>\n",
              "      <td>NaN</td>\n",
              "      <td>http://iztacalco.properati.com.mx/r6gm_venta_d...</td>\n",
              "      <td>19.402413</td>\n",
              "      <td>-99.095391</td>\n",
              "    </tr>\n",
              "    <tr>\n",
              "      <th>22</th>\n",
              "      <td>sell</td>\n",
              "      <td>apartment</td>\n",
              "      <td>|Benito Juárez|Distrito Federal|México|</td>\n",
              "      <td>1295000.0</td>\n",
              "      <td>MXN</td>\n",
              "      <td>1283284.95</td>\n",
              "      <td>68228.99</td>\n",
              "      <td>NaN</td>\n",
              "      <td>80.0</td>\n",
              "      <td>NaN</td>\n",
              "      <td>16187.50000</td>\n",
              "      <td>NaN</td>\n",
              "      <td>NaN</td>\n",
              "      <td>NaN</td>\n",
              "      <td>http://benito-juarez.properati.com.mx/qvop_ven...</td>\n",
              "      <td>19.357820</td>\n",
              "      <td>-99.149406</td>\n",
              "    </tr>\n",
              "  </tbody>\n",
              "</table>\n",
              "</div>\n",
              "      <button class=\"colab-df-convert\" onclick=\"convertToInteractive('df-53829fe3-7d41-4a44-9d48-306ab9285b9c')\"\n",
              "              title=\"Convert this dataframe to an interactive table.\"\n",
              "              style=\"display:none;\">\n",
              "        \n",
              "  <svg xmlns=\"http://www.w3.org/2000/svg\" height=\"24px\"viewBox=\"0 0 24 24\"\n",
              "       width=\"24px\">\n",
              "    <path d=\"M0 0h24v24H0V0z\" fill=\"none\"/>\n",
              "    <path d=\"M18.56 5.44l.94 2.06.94-2.06 2.06-.94-2.06-.94-.94-2.06-.94 2.06-2.06.94zm-11 1L8.5 8.5l.94-2.06 2.06-.94-2.06-.94L8.5 2.5l-.94 2.06-2.06.94zm10 10l.94 2.06.94-2.06 2.06-.94-2.06-.94-.94-2.06-.94 2.06-2.06.94z\"/><path d=\"M17.41 7.96l-1.37-1.37c-.4-.4-.92-.59-1.43-.59-.52 0-1.04.2-1.43.59L10.3 9.45l-7.72 7.72c-.78.78-.78 2.05 0 2.83L4 21.41c.39.39.9.59 1.41.59.51 0 1.02-.2 1.41-.59l7.78-7.78 2.81-2.81c.8-.78.8-2.07 0-2.86zM5.41 20L4 18.59l7.72-7.72 1.47 1.35L5.41 20z\"/>\n",
              "  </svg>\n",
              "      </button>\n",
              "      \n",
              "  <style>\n",
              "    .colab-df-container {\n",
              "      display:flex;\n",
              "      flex-wrap:wrap;\n",
              "      gap: 12px;\n",
              "    }\n",
              "\n",
              "    .colab-df-convert {\n",
              "      background-color: #E8F0FE;\n",
              "      border: none;\n",
              "      border-radius: 50%;\n",
              "      cursor: pointer;\n",
              "      display: none;\n",
              "      fill: #1967D2;\n",
              "      height: 32px;\n",
              "      padding: 0 0 0 0;\n",
              "      width: 32px;\n",
              "    }\n",
              "\n",
              "    .colab-df-convert:hover {\n",
              "      background-color: #E2EBFA;\n",
              "      box-shadow: 0px 1px 2px rgba(60, 64, 67, 0.3), 0px 1px 3px 1px rgba(60, 64, 67, 0.15);\n",
              "      fill: #174EA6;\n",
              "    }\n",
              "\n",
              "    [theme=dark] .colab-df-convert {\n",
              "      background-color: #3B4455;\n",
              "      fill: #D2E3FC;\n",
              "    }\n",
              "\n",
              "    [theme=dark] .colab-df-convert:hover {\n",
              "      background-color: #434B5C;\n",
              "      box-shadow: 0px 1px 3px 1px rgba(0, 0, 0, 0.15);\n",
              "      filter: drop-shadow(0px 1px 2px rgba(0, 0, 0, 0.3));\n",
              "      fill: #FFFFFF;\n",
              "    }\n",
              "  </style>\n",
              "\n",
              "      <script>\n",
              "        const buttonEl =\n",
              "          document.querySelector('#df-53829fe3-7d41-4a44-9d48-306ab9285b9c button.colab-df-convert');\n",
              "        buttonEl.style.display =\n",
              "          google.colab.kernel.accessAllowed ? 'block' : 'none';\n",
              "\n",
              "        async function convertToInteractive(key) {\n",
              "          const element = document.querySelector('#df-53829fe3-7d41-4a44-9d48-306ab9285b9c');\n",
              "          const dataTable =\n",
              "            await google.colab.kernel.invokeFunction('convertToInteractive',\n",
              "                                                     [key], {});\n",
              "          if (!dataTable) return;\n",
              "\n",
              "          const docLinkHtml = 'Like what you see? Visit the ' +\n",
              "            '<a target=\"_blank\" href=https://colab.research.google.com/notebooks/data_table.ipynb>data table notebook</a>'\n",
              "            + ' to learn more about interactive tables.';\n",
              "          element.innerHTML = '';\n",
              "          dataTable['output_type'] = 'display_data';\n",
              "          await google.colab.output.renderOutput(dataTable, element);\n",
              "          const docLink = document.createElement('div');\n",
              "          docLink.innerHTML = docLinkHtml;\n",
              "          element.appendChild(docLink);\n",
              "        }\n",
              "      </script>\n",
              "    </div>\n",
              "  </div>\n",
              "  "
            ]
          },
          "metadata": {},
          "execution_count": 5
        }
      ],
      "source": [
        "# Split \"lat-lon\" into 2 separate features \"lat\" and \"lon\"\n",
        "df[[\"lat\", \"lon\"]] = df[\"lat-lon\"].str.split(\",\", expand = True).astype(float)\n",
        "df.drop(columns = [\"lat-lon\"], inplace = True)\n",
        "df.head()"
      ]
    },
    {
      "cell_type": "code",
      "source": [
        "# Create new feature \"borough\" to replace \"place_with_parent_names\"\n",
        "df[\"borough\"] = df[\"place_with_parent_names\"].str.split(\"|\", expand = True)[1]\n",
        "df.drop(columns = [\"place_with_parent_names\"], inplace =True)\n",
        "df.head()"
      ],
      "metadata": {
        "colab": {
          "base_uri": "https://localhost:8080/",
          "height": 322
        },
        "id": "bA73KT8cbeiH",
        "outputId": "95515ee3-58bc-4007-829d-309dcf1e6bab"
      },
      "execution_count": 6,
      "outputs": [
        {
          "output_type": "execute_result",
          "data": {
            "text/plain": [
              "   operation property_type      price currency  price_aprox_local_currency  \\\n",
              "3       sell     apartment   926667.0      MXN                   918284.00   \n",
              "12      sell     apartment  1784569.0      MXN                  1768425.20   \n",
              "15      sell     apartment  1260000.0      MXN                  1248601.52   \n",
              "21      sell     apartment  1345000.0      MXN                  1333148.73   \n",
              "22      sell     apartment  1295000.0      MXN                  1283284.95   \n",
              "\n",
              "    price_aprox_usd  surface_total_in_m2  surface_covered_in_m2  \\\n",
              "3          48822.82                  NaN                  100.0   \n",
              "12         94022.66                  NaN                   57.0   \n",
              "15         66384.96                  NaN                  103.0   \n",
              "21         70880.12                 56.0                   56.0   \n",
              "22         68228.99                  NaN                   80.0   \n",
              "\n",
              "    price_usd_per_m2  price_per_m2  floor  rooms  expenses  \\\n",
              "3                NaN    9266.67000    NaN    NaN       NaN   \n",
              "12               NaN   31308.22807    NaN    NaN       NaN   \n",
              "15               NaN   12233.00971    NaN    NaN       NaN   \n",
              "21       1265.716429   24017.85714    NaN    NaN       NaN   \n",
              "22               NaN   16187.50000    NaN    NaN       NaN   \n",
              "\n",
              "                                        properati_url        lat         lon  \\\n",
              "3   http://tlalpan.properati.com.mx/qbi4_venta_dep...  19.279771  -99.234597   \n",
              "12  http://benito-juarez.properati.com.mx/pdji_ven...  23.634501 -102.552788   \n",
              "15  http://benito-juarez.properati.com.mx/onph_ven...  19.362690  -99.150565   \n",
              "21  http://iztacalco.properati.com.mx/r6gm_venta_d...  19.402413  -99.095391   \n",
              "22  http://benito-juarez.properati.com.mx/qvop_ven...  19.357820  -99.149406   \n",
              "\n",
              "          borough  \n",
              "3         Tlalpan  \n",
              "12  Benito Juárez  \n",
              "15  Benito Juárez  \n",
              "21      Iztacalco  \n",
              "22  Benito Juárez  "
            ],
            "text/html": [
              "\n",
              "  <div id=\"df-51c3cc16-1b6c-491c-8a00-501dc3bc9b1b\">\n",
              "    <div class=\"colab-df-container\">\n",
              "      <div>\n",
              "<style scoped>\n",
              "    .dataframe tbody tr th:only-of-type {\n",
              "        vertical-align: middle;\n",
              "    }\n",
              "\n",
              "    .dataframe tbody tr th {\n",
              "        vertical-align: top;\n",
              "    }\n",
              "\n",
              "    .dataframe thead th {\n",
              "        text-align: right;\n",
              "    }\n",
              "</style>\n",
              "<table border=\"1\" class=\"dataframe\">\n",
              "  <thead>\n",
              "    <tr style=\"text-align: right;\">\n",
              "      <th></th>\n",
              "      <th>operation</th>\n",
              "      <th>property_type</th>\n",
              "      <th>price</th>\n",
              "      <th>currency</th>\n",
              "      <th>price_aprox_local_currency</th>\n",
              "      <th>price_aprox_usd</th>\n",
              "      <th>surface_total_in_m2</th>\n",
              "      <th>surface_covered_in_m2</th>\n",
              "      <th>price_usd_per_m2</th>\n",
              "      <th>price_per_m2</th>\n",
              "      <th>floor</th>\n",
              "      <th>rooms</th>\n",
              "      <th>expenses</th>\n",
              "      <th>properati_url</th>\n",
              "      <th>lat</th>\n",
              "      <th>lon</th>\n",
              "      <th>borough</th>\n",
              "    </tr>\n",
              "  </thead>\n",
              "  <tbody>\n",
              "    <tr>\n",
              "      <th>3</th>\n",
              "      <td>sell</td>\n",
              "      <td>apartment</td>\n",
              "      <td>926667.0</td>\n",
              "      <td>MXN</td>\n",
              "      <td>918284.00</td>\n",
              "      <td>48822.82</td>\n",
              "      <td>NaN</td>\n",
              "      <td>100.0</td>\n",
              "      <td>NaN</td>\n",
              "      <td>9266.67000</td>\n",
              "      <td>NaN</td>\n",
              "      <td>NaN</td>\n",
              "      <td>NaN</td>\n",
              "      <td>http://tlalpan.properati.com.mx/qbi4_venta_dep...</td>\n",
              "      <td>19.279771</td>\n",
              "      <td>-99.234597</td>\n",
              "      <td>Tlalpan</td>\n",
              "    </tr>\n",
              "    <tr>\n",
              "      <th>12</th>\n",
              "      <td>sell</td>\n",
              "      <td>apartment</td>\n",
              "      <td>1784569.0</td>\n",
              "      <td>MXN</td>\n",
              "      <td>1768425.20</td>\n",
              "      <td>94022.66</td>\n",
              "      <td>NaN</td>\n",
              "      <td>57.0</td>\n",
              "      <td>NaN</td>\n",
              "      <td>31308.22807</td>\n",
              "      <td>NaN</td>\n",
              "      <td>NaN</td>\n",
              "      <td>NaN</td>\n",
              "      <td>http://benito-juarez.properati.com.mx/pdji_ven...</td>\n",
              "      <td>23.634501</td>\n",
              "      <td>-102.552788</td>\n",
              "      <td>Benito Juárez</td>\n",
              "    </tr>\n",
              "    <tr>\n",
              "      <th>15</th>\n",
              "      <td>sell</td>\n",
              "      <td>apartment</td>\n",
              "      <td>1260000.0</td>\n",
              "      <td>MXN</td>\n",
              "      <td>1248601.52</td>\n",
              "      <td>66384.96</td>\n",
              "      <td>NaN</td>\n",
              "      <td>103.0</td>\n",
              "      <td>NaN</td>\n",
              "      <td>12233.00971</td>\n",
              "      <td>NaN</td>\n",
              "      <td>NaN</td>\n",
              "      <td>NaN</td>\n",
              "      <td>http://benito-juarez.properati.com.mx/onph_ven...</td>\n",
              "      <td>19.362690</td>\n",
              "      <td>-99.150565</td>\n",
              "      <td>Benito Juárez</td>\n",
              "    </tr>\n",
              "    <tr>\n",
              "      <th>21</th>\n",
              "      <td>sell</td>\n",
              "      <td>apartment</td>\n",
              "      <td>1345000.0</td>\n",
              "      <td>MXN</td>\n",
              "      <td>1333148.73</td>\n",
              "      <td>70880.12</td>\n",
              "      <td>56.0</td>\n",
              "      <td>56.0</td>\n",
              "      <td>1265.716429</td>\n",
              "      <td>24017.85714</td>\n",
              "      <td>NaN</td>\n",
              "      <td>NaN</td>\n",
              "      <td>NaN</td>\n",
              "      <td>http://iztacalco.properati.com.mx/r6gm_venta_d...</td>\n",
              "      <td>19.402413</td>\n",
              "      <td>-99.095391</td>\n",
              "      <td>Iztacalco</td>\n",
              "    </tr>\n",
              "    <tr>\n",
              "      <th>22</th>\n",
              "      <td>sell</td>\n",
              "      <td>apartment</td>\n",
              "      <td>1295000.0</td>\n",
              "      <td>MXN</td>\n",
              "      <td>1283284.95</td>\n",
              "      <td>68228.99</td>\n",
              "      <td>NaN</td>\n",
              "      <td>80.0</td>\n",
              "      <td>NaN</td>\n",
              "      <td>16187.50000</td>\n",
              "      <td>NaN</td>\n",
              "      <td>NaN</td>\n",
              "      <td>NaN</td>\n",
              "      <td>http://benito-juarez.properati.com.mx/qvop_ven...</td>\n",
              "      <td>19.357820</td>\n",
              "      <td>-99.149406</td>\n",
              "      <td>Benito Juárez</td>\n",
              "    </tr>\n",
              "  </tbody>\n",
              "</table>\n",
              "</div>\n",
              "      <button class=\"colab-df-convert\" onclick=\"convertToInteractive('df-51c3cc16-1b6c-491c-8a00-501dc3bc9b1b')\"\n",
              "              title=\"Convert this dataframe to an interactive table.\"\n",
              "              style=\"display:none;\">\n",
              "        \n",
              "  <svg xmlns=\"http://www.w3.org/2000/svg\" height=\"24px\"viewBox=\"0 0 24 24\"\n",
              "       width=\"24px\">\n",
              "    <path d=\"M0 0h24v24H0V0z\" fill=\"none\"/>\n",
              "    <path d=\"M18.56 5.44l.94 2.06.94-2.06 2.06-.94-2.06-.94-.94-2.06-.94 2.06-2.06.94zm-11 1L8.5 8.5l.94-2.06 2.06-.94-2.06-.94L8.5 2.5l-.94 2.06-2.06.94zm10 10l.94 2.06.94-2.06 2.06-.94-2.06-.94-.94-2.06-.94 2.06-2.06.94z\"/><path d=\"M17.41 7.96l-1.37-1.37c-.4-.4-.92-.59-1.43-.59-.52 0-1.04.2-1.43.59L10.3 9.45l-7.72 7.72c-.78.78-.78 2.05 0 2.83L4 21.41c.39.39.9.59 1.41.59.51 0 1.02-.2 1.41-.59l7.78-7.78 2.81-2.81c.8-.78.8-2.07 0-2.86zM5.41 20L4 18.59l7.72-7.72 1.47 1.35L5.41 20z\"/>\n",
              "  </svg>\n",
              "      </button>\n",
              "      \n",
              "  <style>\n",
              "    .colab-df-container {\n",
              "      display:flex;\n",
              "      flex-wrap:wrap;\n",
              "      gap: 12px;\n",
              "    }\n",
              "\n",
              "    .colab-df-convert {\n",
              "      background-color: #E8F0FE;\n",
              "      border: none;\n",
              "      border-radius: 50%;\n",
              "      cursor: pointer;\n",
              "      display: none;\n",
              "      fill: #1967D2;\n",
              "      height: 32px;\n",
              "      padding: 0 0 0 0;\n",
              "      width: 32px;\n",
              "    }\n",
              "\n",
              "    .colab-df-convert:hover {\n",
              "      background-color: #E2EBFA;\n",
              "      box-shadow: 0px 1px 2px rgba(60, 64, 67, 0.3), 0px 1px 3px 1px rgba(60, 64, 67, 0.15);\n",
              "      fill: #174EA6;\n",
              "    }\n",
              "\n",
              "    [theme=dark] .colab-df-convert {\n",
              "      background-color: #3B4455;\n",
              "      fill: #D2E3FC;\n",
              "    }\n",
              "\n",
              "    [theme=dark] .colab-df-convert:hover {\n",
              "      background-color: #434B5C;\n",
              "      box-shadow: 0px 1px 3px 1px rgba(0, 0, 0, 0.15);\n",
              "      filter: drop-shadow(0px 1px 2px rgba(0, 0, 0, 0.3));\n",
              "      fill: #FFFFFF;\n",
              "    }\n",
              "  </style>\n",
              "\n",
              "      <script>\n",
              "        const buttonEl =\n",
              "          document.querySelector('#df-51c3cc16-1b6c-491c-8a00-501dc3bc9b1b button.colab-df-convert');\n",
              "        buttonEl.style.display =\n",
              "          google.colab.kernel.accessAllowed ? 'block' : 'none';\n",
              "\n",
              "        async function convertToInteractive(key) {\n",
              "          const element = document.querySelector('#df-51c3cc16-1b6c-491c-8a00-501dc3bc9b1b');\n",
              "          const dataTable =\n",
              "            await google.colab.kernel.invokeFunction('convertToInteractive',\n",
              "                                                     [key], {});\n",
              "          if (!dataTable) return;\n",
              "\n",
              "          const docLinkHtml = 'Like what you see? Visit the ' +\n",
              "            '<a target=\"_blank\" href=https://colab.research.google.com/notebooks/data_table.ipynb>data table notebook</a>'\n",
              "            + ' to learn more about interactive tables.';\n",
              "          element.innerHTML = '';\n",
              "          dataTable['output_type'] = 'display_data';\n",
              "          await google.colab.output.renderOutput(dataTable, element);\n",
              "          const docLink = document.createElement('div');\n",
              "          docLink.innerHTML = docLinkHtml;\n",
              "          element.appendChild(docLink);\n",
              "        }\n",
              "      </script>\n",
              "    </div>\n",
              "  </div>\n",
              "  "
            ]
          },
          "metadata": {},
          "execution_count": 6
        }
      ]
    },
    {
      "cell_type": "markdown",
      "metadata": {
        "id": "VD7X-Frwp_-z"
      },
      "source": [
        "### Drop Nan columns"
      ]
    },
    {
      "cell_type": "code",
      "execution_count": 7,
      "metadata": {
        "colab": {
          "base_uri": "https://localhost:8080/"
        },
        "id": "gkOHZCVkp1SK",
        "outputId": "ad8d27a1-4667-427f-f425-56fbcb8aeec0"
      },
      "outputs": [
        {
          "output_type": "stream",
          "name": "stdout",
          "text": [
            "<class 'pandas.core.frame.DataFrame'>\n",
            "Int64Index: 1405 entries, 3 to 4623\n",
            "Data columns (total 17 columns):\n",
            " #   Column                      Non-Null Count  Dtype  \n",
            "---  ------                      --------------  -----  \n",
            " 0   operation                   1405 non-null   object \n",
            " 1   property_type               1405 non-null   object \n",
            " 2   price                       1405 non-null   float64\n",
            " 3   currency                    1405 non-null   object \n",
            " 4   price_aprox_local_currency  1405 non-null   float64\n",
            " 5   price_aprox_usd             1405 non-null   float64\n",
            " 6   surface_total_in_m2         185 non-null    float64\n",
            " 7   surface_covered_in_m2       1366 non-null   float64\n",
            " 8   price_usd_per_m2            128 non-null    float64\n",
            " 9   price_per_m2                1352 non-null   float64\n",
            " 10  floor                       0 non-null      float64\n",
            " 11  rooms                       33 non-null     float64\n",
            " 12  expenses                    1 non-null      float64\n",
            " 13  properati_url               1405 non-null   object \n",
            " 14  lat                         1318 non-null   float64\n",
            " 15  lon                         1318 non-null   float64\n",
            " 16  borough                     1405 non-null   object \n",
            "dtypes: float64(12), object(5)\n",
            "memory usage: 197.6+ KB\n"
          ]
        }
      ],
      "source": [
        "df.info()"
      ]
    },
    {
      "cell_type": "code",
      "execution_count": 8,
      "metadata": {
        "colab": {
          "base_uri": "https://localhost:8080/"
        },
        "id": "aL5W_JUQqPFP",
        "outputId": "4e4e6fc4-5052-4cbc-9be9-c92f335db9cb"
      },
      "outputs": [
        {
          "output_type": "stream",
          "name": "stdout",
          "text": [
            "<class 'pandas.core.frame.DataFrame'>\n",
            "Int64Index: 1405 entries, 3 to 4623\n",
            "Data columns (total 14 columns):\n",
            " #   Column                      Non-Null Count  Dtype  \n",
            "---  ------                      --------------  -----  \n",
            " 0   operation                   1405 non-null   object \n",
            " 1   property_type               1405 non-null   object \n",
            " 2   price                       1405 non-null   float64\n",
            " 3   currency                    1405 non-null   object \n",
            " 4   price_aprox_local_currency  1405 non-null   float64\n",
            " 5   price_aprox_usd             1405 non-null   float64\n",
            " 6   surface_total_in_m2         185 non-null    float64\n",
            " 7   surface_covered_in_m2       1366 non-null   float64\n",
            " 8   price_usd_per_m2            128 non-null    float64\n",
            " 9   price_per_m2                1352 non-null   float64\n",
            " 10  properati_url               1405 non-null   object \n",
            " 11  lat                         1318 non-null   float64\n",
            " 12  lon                         1318 non-null   float64\n",
            " 13  borough                     1405 non-null   object \n",
            "dtypes: float64(9), object(5)\n",
            "memory usage: 164.6+ KB\n"
          ]
        }
      ],
      "source": [
        "df.drop(columns = [\"floor\", \"expenses\", \"rooms\"], inplace = True)\n",
        "df.info()"
      ]
    },
    {
      "cell_type": "markdown",
      "metadata": {
        "id": "u4orKP8ZrSOA"
      },
      "source": [
        "As you can see there are still a few features that has NaN value. However don't worry about it I have handle it later by using a technique call Imputation."
      ]
    },
    {
      "cell_type": "markdown",
      "metadata": {
        "id": "AB51D2VYoTB4"
      },
      "source": [
        "### Handle Low-Cardanality and High-Cardanality Feature"
      ]
    },
    {
      "cell_type": "code",
      "execution_count": 9,
      "metadata": {
        "colab": {
          "base_uri": "https://localhost:8080/"
        },
        "id": "5pz3GDtxpxcb",
        "outputId": "55ffeeba-1df3-429e-f9ae-a7e71a99db2a"
      },
      "outputs": [
        {
          "output_type": "stream",
          "name": "stdout",
          "text": [
            "The number of unique values of feature operation: 1\n",
            "The number of unique values of feature property_type: 1\n",
            "The number of unique values of feature price: 753\n",
            "The number of unique values of feature currency: 2\n",
            "The number of unique values of feature price_aprox_local_currency: 862\n",
            "The number of unique values of feature price_aprox_usd: 862\n",
            "The number of unique values of feature surface_total_in_m2: 60\n",
            "The number of unique values of feature surface_covered_in_m2: 126\n",
            "The number of unique values of feature price_usd_per_m2: 124\n",
            "The number of unique values of feature price_per_m2: 1084\n",
            "The number of unique values of feature properati_url: 1405\n",
            "The number of unique values of feature lat: 828\n",
            "The number of unique values of feature lon: 807\n",
            "The number of unique values of feature borough: 15\n"
          ]
        }
      ],
      "source": [
        "for i in df.columns:\n",
        "  print(f\"The number of unique values of feature {i}: {df[i].nunique()}\")"
      ]
    },
    {
      "cell_type": "markdown",
      "metadata": {
        "id": "UINTQw_kH9dl"
      },
      "source": [
        "From the experiment above It is effortless to realize that \"operation\" and \"property_type\", \"currency\" has only 1 and 2 values So these features are Low-Cardanality Features of the dataset.\n",
        "\n",
        "On the other hand, \"properati_url\" has 1405 values which is excalty equal to the number of row. So \"properati_url\" will be High-Cardanality Feature."
      ]
    },
    {
      "cell_type": "code",
      "execution_count": 10,
      "metadata": {
        "colab": {
          "base_uri": "https://localhost:8080/",
          "height": 206
        },
        "id": "VOWW5P4RH8Ka",
        "outputId": "6549157c-ee47-4440-86bc-862c9195e773"
      },
      "outputs": [
        {
          "output_type": "execute_result",
          "data": {
            "text/plain": [
              "        price  price_aprox_local_currency  price_aprox_usd  \\\n",
              "3    926667.0                   918284.00         48822.82   \n",
              "12  1784569.0                  1768425.20         94022.66   \n",
              "15  1260000.0                  1248601.52         66384.96   \n",
              "21  1345000.0                  1333148.73         70880.12   \n",
              "22  1295000.0                  1283284.95         68228.99   \n",
              "\n",
              "    surface_total_in_m2  surface_covered_in_m2  price_usd_per_m2  \\\n",
              "3                   NaN                  100.0               NaN   \n",
              "12                  NaN                   57.0               NaN   \n",
              "15                  NaN                  103.0               NaN   \n",
              "21                 56.0                   56.0       1265.716429   \n",
              "22                  NaN                   80.0               NaN   \n",
              "\n",
              "    price_per_m2        lat         lon        borough  \n",
              "3     9266.67000  19.279771  -99.234597        Tlalpan  \n",
              "12   31308.22807  23.634501 -102.552788  Benito Juárez  \n",
              "15   12233.00971  19.362690  -99.150565  Benito Juárez  \n",
              "21   24017.85714  19.402413  -99.095391      Iztacalco  \n",
              "22   16187.50000  19.357820  -99.149406  Benito Juárez  "
            ],
            "text/html": [
              "\n",
              "  <div id=\"df-3725e24d-ff13-4a45-aca3-cbad716c379a\">\n",
              "    <div class=\"colab-df-container\">\n",
              "      <div>\n",
              "<style scoped>\n",
              "    .dataframe tbody tr th:only-of-type {\n",
              "        vertical-align: middle;\n",
              "    }\n",
              "\n",
              "    .dataframe tbody tr th {\n",
              "        vertical-align: top;\n",
              "    }\n",
              "\n",
              "    .dataframe thead th {\n",
              "        text-align: right;\n",
              "    }\n",
              "</style>\n",
              "<table border=\"1\" class=\"dataframe\">\n",
              "  <thead>\n",
              "    <tr style=\"text-align: right;\">\n",
              "      <th></th>\n",
              "      <th>price</th>\n",
              "      <th>price_aprox_local_currency</th>\n",
              "      <th>price_aprox_usd</th>\n",
              "      <th>surface_total_in_m2</th>\n",
              "      <th>surface_covered_in_m2</th>\n",
              "      <th>price_usd_per_m2</th>\n",
              "      <th>price_per_m2</th>\n",
              "      <th>lat</th>\n",
              "      <th>lon</th>\n",
              "      <th>borough</th>\n",
              "    </tr>\n",
              "  </thead>\n",
              "  <tbody>\n",
              "    <tr>\n",
              "      <th>3</th>\n",
              "      <td>926667.0</td>\n",
              "      <td>918284.00</td>\n",
              "      <td>48822.82</td>\n",
              "      <td>NaN</td>\n",
              "      <td>100.0</td>\n",
              "      <td>NaN</td>\n",
              "      <td>9266.67000</td>\n",
              "      <td>19.279771</td>\n",
              "      <td>-99.234597</td>\n",
              "      <td>Tlalpan</td>\n",
              "    </tr>\n",
              "    <tr>\n",
              "      <th>12</th>\n",
              "      <td>1784569.0</td>\n",
              "      <td>1768425.20</td>\n",
              "      <td>94022.66</td>\n",
              "      <td>NaN</td>\n",
              "      <td>57.0</td>\n",
              "      <td>NaN</td>\n",
              "      <td>31308.22807</td>\n",
              "      <td>23.634501</td>\n",
              "      <td>-102.552788</td>\n",
              "      <td>Benito Juárez</td>\n",
              "    </tr>\n",
              "    <tr>\n",
              "      <th>15</th>\n",
              "      <td>1260000.0</td>\n",
              "      <td>1248601.52</td>\n",
              "      <td>66384.96</td>\n",
              "      <td>NaN</td>\n",
              "      <td>103.0</td>\n",
              "      <td>NaN</td>\n",
              "      <td>12233.00971</td>\n",
              "      <td>19.362690</td>\n",
              "      <td>-99.150565</td>\n",
              "      <td>Benito Juárez</td>\n",
              "    </tr>\n",
              "    <tr>\n",
              "      <th>21</th>\n",
              "      <td>1345000.0</td>\n",
              "      <td>1333148.73</td>\n",
              "      <td>70880.12</td>\n",
              "      <td>56.0</td>\n",
              "      <td>56.0</td>\n",
              "      <td>1265.716429</td>\n",
              "      <td>24017.85714</td>\n",
              "      <td>19.402413</td>\n",
              "      <td>-99.095391</td>\n",
              "      <td>Iztacalco</td>\n",
              "    </tr>\n",
              "    <tr>\n",
              "      <th>22</th>\n",
              "      <td>1295000.0</td>\n",
              "      <td>1283284.95</td>\n",
              "      <td>68228.99</td>\n",
              "      <td>NaN</td>\n",
              "      <td>80.0</td>\n",
              "      <td>NaN</td>\n",
              "      <td>16187.50000</td>\n",
              "      <td>19.357820</td>\n",
              "      <td>-99.149406</td>\n",
              "      <td>Benito Juárez</td>\n",
              "    </tr>\n",
              "  </tbody>\n",
              "</table>\n",
              "</div>\n",
              "      <button class=\"colab-df-convert\" onclick=\"convertToInteractive('df-3725e24d-ff13-4a45-aca3-cbad716c379a')\"\n",
              "              title=\"Convert this dataframe to an interactive table.\"\n",
              "              style=\"display:none;\">\n",
              "        \n",
              "  <svg xmlns=\"http://www.w3.org/2000/svg\" height=\"24px\"viewBox=\"0 0 24 24\"\n",
              "       width=\"24px\">\n",
              "    <path d=\"M0 0h24v24H0V0z\" fill=\"none\"/>\n",
              "    <path d=\"M18.56 5.44l.94 2.06.94-2.06 2.06-.94-2.06-.94-.94-2.06-.94 2.06-2.06.94zm-11 1L8.5 8.5l.94-2.06 2.06-.94-2.06-.94L8.5 2.5l-.94 2.06-2.06.94zm10 10l.94 2.06.94-2.06 2.06-.94-2.06-.94-.94-2.06-.94 2.06-2.06.94z\"/><path d=\"M17.41 7.96l-1.37-1.37c-.4-.4-.92-.59-1.43-.59-.52 0-1.04.2-1.43.59L10.3 9.45l-7.72 7.72c-.78.78-.78 2.05 0 2.83L4 21.41c.39.39.9.59 1.41.59.51 0 1.02-.2 1.41-.59l7.78-7.78 2.81-2.81c.8-.78.8-2.07 0-2.86zM5.41 20L4 18.59l7.72-7.72 1.47 1.35L5.41 20z\"/>\n",
              "  </svg>\n",
              "      </button>\n",
              "      \n",
              "  <style>\n",
              "    .colab-df-container {\n",
              "      display:flex;\n",
              "      flex-wrap:wrap;\n",
              "      gap: 12px;\n",
              "    }\n",
              "\n",
              "    .colab-df-convert {\n",
              "      background-color: #E8F0FE;\n",
              "      border: none;\n",
              "      border-radius: 50%;\n",
              "      cursor: pointer;\n",
              "      display: none;\n",
              "      fill: #1967D2;\n",
              "      height: 32px;\n",
              "      padding: 0 0 0 0;\n",
              "      width: 32px;\n",
              "    }\n",
              "\n",
              "    .colab-df-convert:hover {\n",
              "      background-color: #E2EBFA;\n",
              "      box-shadow: 0px 1px 2px rgba(60, 64, 67, 0.3), 0px 1px 3px 1px rgba(60, 64, 67, 0.15);\n",
              "      fill: #174EA6;\n",
              "    }\n",
              "\n",
              "    [theme=dark] .colab-df-convert {\n",
              "      background-color: #3B4455;\n",
              "      fill: #D2E3FC;\n",
              "    }\n",
              "\n",
              "    [theme=dark] .colab-df-convert:hover {\n",
              "      background-color: #434B5C;\n",
              "      box-shadow: 0px 1px 3px 1px rgba(0, 0, 0, 0.15);\n",
              "      filter: drop-shadow(0px 1px 2px rgba(0, 0, 0, 0.3));\n",
              "      fill: #FFFFFF;\n",
              "    }\n",
              "  </style>\n",
              "\n",
              "      <script>\n",
              "        const buttonEl =\n",
              "          document.querySelector('#df-3725e24d-ff13-4a45-aca3-cbad716c379a button.colab-df-convert');\n",
              "        buttonEl.style.display =\n",
              "          google.colab.kernel.accessAllowed ? 'block' : 'none';\n",
              "\n",
              "        async function convertToInteractive(key) {\n",
              "          const element = document.querySelector('#df-3725e24d-ff13-4a45-aca3-cbad716c379a');\n",
              "          const dataTable =\n",
              "            await google.colab.kernel.invokeFunction('convertToInteractive',\n",
              "                                                     [key], {});\n",
              "          if (!dataTable) return;\n",
              "\n",
              "          const docLinkHtml = 'Like what you see? Visit the ' +\n",
              "            '<a target=\"_blank\" href=https://colab.research.google.com/notebooks/data_table.ipynb>data table notebook</a>'\n",
              "            + ' to learn more about interactive tables.';\n",
              "          element.innerHTML = '';\n",
              "          dataTable['output_type'] = 'display_data';\n",
              "          await google.colab.output.renderOutput(dataTable, element);\n",
              "          const docLink = document.createElement('div');\n",
              "          docLink.innerHTML = docLinkHtml;\n",
              "          element.appendChild(docLink);\n",
              "        }\n",
              "      </script>\n",
              "    </div>\n",
              "  </div>\n",
              "  "
            ]
          },
          "metadata": {},
          "execution_count": 10
        }
      ],
      "source": [
        "df.drop(columns = [\"operation\", \"property_type\", \"currency\", \"properati_url\"], \n",
        "        inplace = True)\n",
        "df.head()"
      ]
    },
    {
      "cell_type": "markdown",
      "metadata": {
        "id": "w_NNq1p1KRO7"
      },
      "source": [
        "### Leakage Feature"
      ]
    },
    {
      "cell_type": "markdown",
      "metadata": {
        "id": "BTkL8tQwMTHw"
      },
      "source": [
        "Since our purpose is to predict the price of house in Mexico so our target will be \"price_aprox_usd\" so every feature relate to money will have a strong correlation with the target feature so I will drop those columns express price of house in the DataFrame\n",
        "\n",
        "Those columns are \"price\", \"price_aprox_local_currency\", \"price_per_m2\", \"price_usd_per_m2\""
      ]
    },
    {
      "cell_type": "code",
      "execution_count": 11,
      "metadata": {
        "colab": {
          "base_uri": "https://localhost:8080/",
          "height": 206
        },
        "id": "zlc2z_C6KU1J",
        "outputId": "cde9e2ae-b927-47c3-bb1d-4ea354a28722"
      },
      "outputs": [
        {
          "output_type": "execute_result",
          "data": {
            "text/plain": [
              "    price_aprox_usd  surface_total_in_m2  surface_covered_in_m2        lat  \\\n",
              "3          48822.82                  NaN                  100.0  19.279771   \n",
              "12         94022.66                  NaN                   57.0  23.634501   \n",
              "15         66384.96                  NaN                  103.0  19.362690   \n",
              "21         70880.12                 56.0                   56.0  19.402413   \n",
              "22         68228.99                  NaN                   80.0  19.357820   \n",
              "\n",
              "           lon        borough  \n",
              "3   -99.234597        Tlalpan  \n",
              "12 -102.552788  Benito Juárez  \n",
              "15  -99.150565  Benito Juárez  \n",
              "21  -99.095391      Iztacalco  \n",
              "22  -99.149406  Benito Juárez  "
            ],
            "text/html": [
              "\n",
              "  <div id=\"df-f15472de-c93e-46c0-b542-bee9f6124e95\">\n",
              "    <div class=\"colab-df-container\">\n",
              "      <div>\n",
              "<style scoped>\n",
              "    .dataframe tbody tr th:only-of-type {\n",
              "        vertical-align: middle;\n",
              "    }\n",
              "\n",
              "    .dataframe tbody tr th {\n",
              "        vertical-align: top;\n",
              "    }\n",
              "\n",
              "    .dataframe thead th {\n",
              "        text-align: right;\n",
              "    }\n",
              "</style>\n",
              "<table border=\"1\" class=\"dataframe\">\n",
              "  <thead>\n",
              "    <tr style=\"text-align: right;\">\n",
              "      <th></th>\n",
              "      <th>price_aprox_usd</th>\n",
              "      <th>surface_total_in_m2</th>\n",
              "      <th>surface_covered_in_m2</th>\n",
              "      <th>lat</th>\n",
              "      <th>lon</th>\n",
              "      <th>borough</th>\n",
              "    </tr>\n",
              "  </thead>\n",
              "  <tbody>\n",
              "    <tr>\n",
              "      <th>3</th>\n",
              "      <td>48822.82</td>\n",
              "      <td>NaN</td>\n",
              "      <td>100.0</td>\n",
              "      <td>19.279771</td>\n",
              "      <td>-99.234597</td>\n",
              "      <td>Tlalpan</td>\n",
              "    </tr>\n",
              "    <tr>\n",
              "      <th>12</th>\n",
              "      <td>94022.66</td>\n",
              "      <td>NaN</td>\n",
              "      <td>57.0</td>\n",
              "      <td>23.634501</td>\n",
              "      <td>-102.552788</td>\n",
              "      <td>Benito Juárez</td>\n",
              "    </tr>\n",
              "    <tr>\n",
              "      <th>15</th>\n",
              "      <td>66384.96</td>\n",
              "      <td>NaN</td>\n",
              "      <td>103.0</td>\n",
              "      <td>19.362690</td>\n",
              "      <td>-99.150565</td>\n",
              "      <td>Benito Juárez</td>\n",
              "    </tr>\n",
              "    <tr>\n",
              "      <th>21</th>\n",
              "      <td>70880.12</td>\n",
              "      <td>56.0</td>\n",
              "      <td>56.0</td>\n",
              "      <td>19.402413</td>\n",
              "      <td>-99.095391</td>\n",
              "      <td>Iztacalco</td>\n",
              "    </tr>\n",
              "    <tr>\n",
              "      <th>22</th>\n",
              "      <td>68228.99</td>\n",
              "      <td>NaN</td>\n",
              "      <td>80.0</td>\n",
              "      <td>19.357820</td>\n",
              "      <td>-99.149406</td>\n",
              "      <td>Benito Juárez</td>\n",
              "    </tr>\n",
              "  </tbody>\n",
              "</table>\n",
              "</div>\n",
              "      <button class=\"colab-df-convert\" onclick=\"convertToInteractive('df-f15472de-c93e-46c0-b542-bee9f6124e95')\"\n",
              "              title=\"Convert this dataframe to an interactive table.\"\n",
              "              style=\"display:none;\">\n",
              "        \n",
              "  <svg xmlns=\"http://www.w3.org/2000/svg\" height=\"24px\"viewBox=\"0 0 24 24\"\n",
              "       width=\"24px\">\n",
              "    <path d=\"M0 0h24v24H0V0z\" fill=\"none\"/>\n",
              "    <path d=\"M18.56 5.44l.94 2.06.94-2.06 2.06-.94-2.06-.94-.94-2.06-.94 2.06-2.06.94zm-11 1L8.5 8.5l.94-2.06 2.06-.94-2.06-.94L8.5 2.5l-.94 2.06-2.06.94zm10 10l.94 2.06.94-2.06 2.06-.94-2.06-.94-.94-2.06-.94 2.06-2.06.94z\"/><path d=\"M17.41 7.96l-1.37-1.37c-.4-.4-.92-.59-1.43-.59-.52 0-1.04.2-1.43.59L10.3 9.45l-7.72 7.72c-.78.78-.78 2.05 0 2.83L4 21.41c.39.39.9.59 1.41.59.51 0 1.02-.2 1.41-.59l7.78-7.78 2.81-2.81c.8-.78.8-2.07 0-2.86zM5.41 20L4 18.59l7.72-7.72 1.47 1.35L5.41 20z\"/>\n",
              "  </svg>\n",
              "      </button>\n",
              "      \n",
              "  <style>\n",
              "    .colab-df-container {\n",
              "      display:flex;\n",
              "      flex-wrap:wrap;\n",
              "      gap: 12px;\n",
              "    }\n",
              "\n",
              "    .colab-df-convert {\n",
              "      background-color: #E8F0FE;\n",
              "      border: none;\n",
              "      border-radius: 50%;\n",
              "      cursor: pointer;\n",
              "      display: none;\n",
              "      fill: #1967D2;\n",
              "      height: 32px;\n",
              "      padding: 0 0 0 0;\n",
              "      width: 32px;\n",
              "    }\n",
              "\n",
              "    .colab-df-convert:hover {\n",
              "      background-color: #E2EBFA;\n",
              "      box-shadow: 0px 1px 2px rgba(60, 64, 67, 0.3), 0px 1px 3px 1px rgba(60, 64, 67, 0.15);\n",
              "      fill: #174EA6;\n",
              "    }\n",
              "\n",
              "    [theme=dark] .colab-df-convert {\n",
              "      background-color: #3B4455;\n",
              "      fill: #D2E3FC;\n",
              "    }\n",
              "\n",
              "    [theme=dark] .colab-df-convert:hover {\n",
              "      background-color: #434B5C;\n",
              "      box-shadow: 0px 1px 3px 1px rgba(0, 0, 0, 0.15);\n",
              "      filter: drop-shadow(0px 1px 2px rgba(0, 0, 0, 0.3));\n",
              "      fill: #FFFFFF;\n",
              "    }\n",
              "  </style>\n",
              "\n",
              "      <script>\n",
              "        const buttonEl =\n",
              "          document.querySelector('#df-f15472de-c93e-46c0-b542-bee9f6124e95 button.colab-df-convert');\n",
              "        buttonEl.style.display =\n",
              "          google.colab.kernel.accessAllowed ? 'block' : 'none';\n",
              "\n",
              "        async function convertToInteractive(key) {\n",
              "          const element = document.querySelector('#df-f15472de-c93e-46c0-b542-bee9f6124e95');\n",
              "          const dataTable =\n",
              "            await google.colab.kernel.invokeFunction('convertToInteractive',\n",
              "                                                     [key], {});\n",
              "          if (!dataTable) return;\n",
              "\n",
              "          const docLinkHtml = 'Like what you see? Visit the ' +\n",
              "            '<a target=\"_blank\" href=https://colab.research.google.com/notebooks/data_table.ipynb>data table notebook</a>'\n",
              "            + ' to learn more about interactive tables.';\n",
              "          element.innerHTML = '';\n",
              "          dataTable['output_type'] = 'display_data';\n",
              "          await google.colab.output.renderOutput(dataTable, element);\n",
              "          const docLink = document.createElement('div');\n",
              "          docLink.innerHTML = docLinkHtml;\n",
              "          element.appendChild(docLink);\n",
              "        }\n",
              "      </script>\n",
              "    </div>\n",
              "  </div>\n",
              "  "
            ]
          },
          "metadata": {},
          "execution_count": 11
        }
      ],
      "source": [
        "df.drop(columns = [\"price\", \"price_aprox_local_currency\", \"price_per_m2\", \"price_usd_per_m2\"], \n",
        "        inplace = True)\n",
        "df.head()"
      ]
    },
    {
      "cell_type": "code",
      "execution_count": 12,
      "metadata": {
        "colab": {
          "base_uri": "https://localhost:8080/"
        },
        "id": "IzUtX61IOuxo",
        "outputId": "c7bb42f6-f1a6-41b6-b09d-d38f7050015f"
      },
      "outputs": [
        {
          "output_type": "stream",
          "name": "stdout",
          "text": [
            "<class 'pandas.core.frame.DataFrame'>\n",
            "Int64Index: 1405 entries, 3 to 4623\n",
            "Data columns (total 6 columns):\n",
            " #   Column                 Non-Null Count  Dtype  \n",
            "---  ------                 --------------  -----  \n",
            " 0   price_aprox_usd        1405 non-null   float64\n",
            " 1   surface_total_in_m2    185 non-null    float64\n",
            " 2   surface_covered_in_m2  1366 non-null   float64\n",
            " 3   lat                    1318 non-null   float64\n",
            " 4   lon                    1318 non-null   float64\n",
            " 5   borough                1405 non-null   object \n",
            "dtypes: float64(5), object(1)\n",
            "memory usage: 76.8+ KB\n"
          ]
        }
      ],
      "source": [
        "df.info()"
      ]
    },
    {
      "cell_type": "markdown",
      "metadata": {
        "id": "uhpan8rkNbpx"
      },
      "source": [
        "Next, we need to keep an eye out for is multicollinearity, that is, features in our feature matrix that are highly correlated with each other. A good way to detect this is to use a heatmap."
      ]
    },
    {
      "cell_type": "code",
      "execution_count": 13,
      "metadata": {
        "colab": {
          "base_uri": "https://localhost:8080/",
          "height": 481
        },
        "id": "bpj5d92RM6R0",
        "outputId": "15854d8f-2ed3-4ded-e7cb-c4c6fd7c8424"
      },
      "outputs": [
        {
          "output_type": "stream",
          "name": "stderr",
          "text": [
            "/usr/local/lib/python3.8/dist-packages/pandas/core/frame.py:4906: SettingWithCopyWarning: \n",
            "A value is trying to be set on a copy of a slice from a DataFrame\n",
            "\n",
            "See the caveats in the documentation: https://pandas.pydata.org/pandas-docs/stable/user_guide/indexing.html#returning-a-view-versus-a-copy\n",
            "  return super().drop(\n"
          ]
        },
        {
          "output_type": "execute_result",
          "data": {
            "text/plain": [
              "<matplotlib.axes._subplots.AxesSubplot at 0x7f8269ef6a30>"
            ]
          },
          "metadata": {},
          "execution_count": 13
        },
        {
          "output_type": "display_data",
          "data": {
            "text/plain": [
              "<Figure size 432x288 with 2 Axes>"
            ],
            "image/png": "[encoded data removed]"
          },
          "metadata": {
            "needs_background": "light"
          }
        }
      ],
      "source": [
        "df_numeric = df.select_dtypes(include = \"number\")\n",
        "df_numeric.drop(columns = [\"price_aprox_usd\"], inplace = True)\n",
        "corr = df_numeric.corr(method = \"pearson\")\n",
        "sns.heatmap(corr)"
      ]
    },
    {
      "cell_type": "markdown",
      "metadata": {
        "id": "KAofMSEQN65-"
      },
      "source": [
        "As everyone see the correlation coefficient between \"surface_covered_in_m2\" and \"surface_total_in_m2\" is pretty high we only need one of them so I will drop \"surface_total_in_m2\""
      ]
    },
    {
      "cell_type": "code",
      "execution_count": 14,
      "metadata": {
        "colab": {
          "base_uri": "https://localhost:8080/",
          "height": 206
        },
        "id": "rSImIrfLRcuV",
        "outputId": "709ec5d6-46b8-4405-b16b-8c285d6370cf"
      },
      "outputs": [
        {
          "output_type": "execute_result",
          "data": {
            "text/plain": [
              "    price_aprox_usd  surface_covered_in_m2        lat         lon  \\\n",
              "3          48822.82                  100.0  19.279771  -99.234597   \n",
              "12         94022.66                   57.0  23.634501 -102.552788   \n",
              "15         66384.96                  103.0  19.362690  -99.150565   \n",
              "21         70880.12                   56.0  19.402413  -99.095391   \n",
              "22         68228.99                   80.0  19.357820  -99.149406   \n",
              "\n",
              "          borough  \n",
              "3         Tlalpan  \n",
              "12  Benito Juárez  \n",
              "15  Benito Juárez  \n",
              "21      Iztacalco  \n",
              "22  Benito Juárez  "
            ],
            "text/html": [
              "\n",
              "  <div id=\"df-a3629d7f-f289-43a8-9c00-66210eeef7e1\">\n",
              "    <div class=\"colab-df-container\">\n",
              "      <div>\n",
              "<style scoped>\n",
              "    .dataframe tbody tr th:only-of-type {\n",
              "        vertical-align: middle;\n",
              "    }\n",
              "\n",
              "    .dataframe tbody tr th {\n",
              "        vertical-align: top;\n",
              "    }\n",
              "\n",
              "    .dataframe thead th {\n",
              "        text-align: right;\n",
              "    }\n",
              "</style>\n",
              "<table border=\"1\" class=\"dataframe\">\n",
              "  <thead>\n",
              "    <tr style=\"text-align: right;\">\n",
              "      <th></th>\n",
              "      <th>price_aprox_usd</th>\n",
              "      <th>surface_covered_in_m2</th>\n",
              "      <th>lat</th>\n",
              "      <th>lon</th>\n",
              "      <th>borough</th>\n",
              "    </tr>\n",
              "  </thead>\n",
              "  <tbody>\n",
              "    <tr>\n",
              "      <th>3</th>\n",
              "      <td>48822.82</td>\n",
              "      <td>100.0</td>\n",
              "      <td>19.279771</td>\n",
              "      <td>-99.234597</td>\n",
              "      <td>Tlalpan</td>\n",
              "    </tr>\n",
              "    <tr>\n",
              "      <th>12</th>\n",
              "      <td>94022.66</td>\n",
              "      <td>57.0</td>\n",
              "      <td>23.634501</td>\n",
              "      <td>-102.552788</td>\n",
              "      <td>Benito Juárez</td>\n",
              "    </tr>\n",
              "    <tr>\n",
              "      <th>15</th>\n",
              "      <td>66384.96</td>\n",
              "      <td>103.0</td>\n",
              "      <td>19.362690</td>\n",
              "      <td>-99.150565</td>\n",
              "      <td>Benito Juárez</td>\n",
              "    </tr>\n",
              "    <tr>\n",
              "      <th>21</th>\n",
              "      <td>70880.12</td>\n",
              "      <td>56.0</td>\n",
              "      <td>19.402413</td>\n",
              "      <td>-99.095391</td>\n",
              "      <td>Iztacalco</td>\n",
              "    </tr>\n",
              "    <tr>\n",
              "      <th>22</th>\n",
              "      <td>68228.99</td>\n",
              "      <td>80.0</td>\n",
              "      <td>19.357820</td>\n",
              "      <td>-99.149406</td>\n",
              "      <td>Benito Juárez</td>\n",
              "    </tr>\n",
              "  </tbody>\n",
              "</table>\n",
              "</div>\n",
              "      <button class=\"colab-df-convert\" onclick=\"convertToInteractive('df-a3629d7f-f289-43a8-9c00-66210eeef7e1')\"\n",
              "              title=\"Convert this dataframe to an interactive table.\"\n",
              "              style=\"display:none;\">\n",
              "        \n",
              "  <svg xmlns=\"http://www.w3.org/2000/svg\" height=\"24px\"viewBox=\"0 0 24 24\"\n",
              "       width=\"24px\">\n",
              "    <path d=\"M0 0h24v24H0V0z\" fill=\"none\"/>\n",
              "    <path d=\"M18.56 5.44l.94 2.06.94-2.06 2.06-.94-2.06-.94-.94-2.06-.94 2.06-2.06.94zm-11 1L8.5 8.5l.94-2.06 2.06-.94-2.06-.94L8.5 2.5l-.94 2.06-2.06.94zm10 10l.94 2.06.94-2.06 2.06-.94-2.06-.94-.94-2.06-.94 2.06-2.06.94z\"/><path d=\"M17.41 7.96l-1.37-1.37c-.4-.4-.92-.59-1.43-.59-.52 0-1.04.2-1.43.59L10.3 9.45l-7.72 7.72c-.78.78-.78 2.05 0 2.83L4 21.41c.39.39.9.59 1.41.59.51 0 1.02-.2 1.41-.59l7.78-7.78 2.81-2.81c.8-.78.8-2.07 0-2.86zM5.41 20L4 18.59l7.72-7.72 1.47 1.35L5.41 20z\"/>\n",
              "  </svg>\n",
              "      </button>\n",
              "      \n",
              "  <style>\n",
              "    .colab-df-container {\n",
              "      display:flex;\n",
              "      flex-wrap:wrap;\n",
              "      gap: 12px;\n",
              "    }\n",
              "\n",
              "    .colab-df-convert {\n",
              "      background-color: #E8F0FE;\n",
              "      border: none;\n",
              "      border-radius: 50%;\n",
              "      cursor: pointer;\n",
              "      display: none;\n",
              "      fill: #1967D2;\n",
              "      height: 32px;\n",
              "      padding: 0 0 0 0;\n",
              "      width: 32px;\n",
              "    }\n",
              "\n",
              "    .colab-df-convert:hover {\n",
              "      background-color: #E2EBFA;\n",
              "      box-shadow: 0px 1px 2px rgba(60, 64, 67, 0.3), 0px 1px 3px 1px rgba(60, 64, 67, 0.15);\n",
              "      fill: #174EA6;\n",
              "    }\n",
              "\n",
              "    [theme=dark] .colab-df-convert {\n",
              "      background-color: #3B4455;\n",
              "      fill: #D2E3FC;\n",
              "    }\n",
              "\n",
              "    [theme=dark] .colab-df-convert:hover {\n",
              "      background-color: #434B5C;\n",
              "      box-shadow: 0px 1px 3px 1px rgba(0, 0, 0, 0.15);\n",
              "      filter: drop-shadow(0px 1px 2px rgba(0, 0, 0, 0.3));\n",
              "      fill: #FFFFFF;\n",
              "    }\n",
              "  </style>\n",
              "\n",
              "      <script>\n",
              "        const buttonEl =\n",
              "          document.querySelector('#df-a3629d7f-f289-43a8-9c00-66210eeef7e1 button.colab-df-convert');\n",
              "        buttonEl.style.display =\n",
              "          google.colab.kernel.accessAllowed ? 'block' : 'none';\n",
              "\n",
              "        async function convertToInteractive(key) {\n",
              "          const element = document.querySelector('#df-a3629d7f-f289-43a8-9c00-66210eeef7e1');\n",
              "          const dataTable =\n",
              "            await google.colab.kernel.invokeFunction('convertToInteractive',\n",
              "                                                     [key], {});\n",
              "          if (!dataTable) return;\n",
              "\n",
              "          const docLinkHtml = 'Like what you see? Visit the ' +\n",
              "            '<a target=\"_blank\" href=https://colab.research.google.com/notebooks/data_table.ipynb>data table notebook</a>'\n",
              "            + ' to learn more about interactive tables.';\n",
              "          element.innerHTML = '';\n",
              "          dataTable['output_type'] = 'display_data';\n",
              "          await google.colab.output.renderOutput(dataTable, element);\n",
              "          const docLink = document.createElement('div');\n",
              "          docLink.innerHTML = docLinkHtml;\n",
              "          element.appendChild(docLink);\n",
              "        }\n",
              "      </script>\n",
              "    </div>\n",
              "  </div>\n",
              "  "
            ]
          },
          "metadata": {},
          "execution_count": 14
        }
      ],
      "source": [
        "df.drop(columns = [\"surface_total_in_m2\"], inplace = True)\n",
        "df.head()"
      ]
    },
    {
      "cell_type": "markdown",
      "metadata": {
        "id": "oy9GTjvKR-CA"
      },
      "source": [
        "### Remove Outlier"
      ]
    },
    {
      "cell_type": "code",
      "execution_count": 15,
      "metadata": {
        "colab": {
          "base_uri": "https://localhost:8080/",
          "height": 206
        },
        "id": "NdzpQiHYSA3f",
        "outputId": "9ac75d37-6771-4337-dcfe-fb103e512df1"
      },
      "outputs": [
        {
          "output_type": "execute_result",
          "data": {
            "text/plain": [
              "    price_aprox_usd  surface_covered_in_m2        lat         lon  \\\n",
              "12         94022.66                   57.0  23.634501 -102.552788   \n",
              "21         70880.12                   56.0  19.402413  -99.095391   \n",
              "22         68228.99                   80.0  19.357820  -99.149406   \n",
              "23         24235.78                   60.0  19.504985  -99.208557   \n",
              "27         94140.20                   50.0  19.354219  -99.126244   \n",
              "\n",
              "          borough  \n",
              "12  Benito Juárez  \n",
              "21      Iztacalco  \n",
              "22  Benito Juárez  \n",
              "23   Azcapotzalco  \n",
              "27       Coyoacán  "
            ],
            "text/html": [
              "\n",
              "  <div id=\"df-7cc479d1-ec9c-460a-a97d-416d563ed69b\">\n",
              "    <div class=\"colab-df-container\">\n",
              "      <div>\n",
              "<style scoped>\n",
              "    .dataframe tbody tr th:only-of-type {\n",
              "        vertical-align: middle;\n",
              "    }\n",
              "\n",
              "    .dataframe tbody tr th {\n",
              "        vertical-align: top;\n",
              "    }\n",
              "\n",
              "    .dataframe thead th {\n",
              "        text-align: right;\n",
              "    }\n",
              "</style>\n",
              "<table border=\"1\" class=\"dataframe\">\n",
              "  <thead>\n",
              "    <tr style=\"text-align: right;\">\n",
              "      <th></th>\n",
              "      <th>price_aprox_usd</th>\n",
              "      <th>surface_covered_in_m2</th>\n",
              "      <th>lat</th>\n",
              "      <th>lon</th>\n",
              "      <th>borough</th>\n",
              "    </tr>\n",
              "  </thead>\n",
              "  <tbody>\n",
              "    <tr>\n",
              "      <th>12</th>\n",
              "      <td>94022.66</td>\n",
              "      <td>57.0</td>\n",
              "      <td>23.634501</td>\n",
              "      <td>-102.552788</td>\n",
              "      <td>Benito Juárez</td>\n",
              "    </tr>\n",
              "    <tr>\n",
              "      <th>21</th>\n",
              "      <td>70880.12</td>\n",
              "      <td>56.0</td>\n",
              "      <td>19.402413</td>\n",
              "      <td>-99.095391</td>\n",
              "      <td>Iztacalco</td>\n",
              "    </tr>\n",
              "    <tr>\n",
              "      <th>22</th>\n",
              "      <td>68228.99</td>\n",
              "      <td>80.0</td>\n",
              "      <td>19.357820</td>\n",
              "      <td>-99.149406</td>\n",
              "      <td>Benito Juárez</td>\n",
              "    </tr>\n",
              "    <tr>\n",
              "      <th>23</th>\n",
              "      <td>24235.78</td>\n",
              "      <td>60.0</td>\n",
              "      <td>19.504985</td>\n",
              "      <td>-99.208557</td>\n",
              "      <td>Azcapotzalco</td>\n",
              "    </tr>\n",
              "    <tr>\n",
              "      <th>27</th>\n",
              "      <td>94140.20</td>\n",
              "      <td>50.0</td>\n",
              "      <td>19.354219</td>\n",
              "      <td>-99.126244</td>\n",
              "      <td>Coyoacán</td>\n",
              "    </tr>\n",
              "  </tbody>\n",
              "</table>\n",
              "</div>\n",
              "      <button class=\"colab-df-convert\" onclick=\"convertToInteractive('df-7cc479d1-ec9c-460a-a97d-416d563ed69b')\"\n",
              "              title=\"Convert this dataframe to an interactive table.\"\n",
              "              style=\"display:none;\">\n",
              "        \n",
              "  <svg xmlns=\"http://www.w3.org/2000/svg\" height=\"24px\"viewBox=\"0 0 24 24\"\n",
              "       width=\"24px\">\n",
              "    <path d=\"M0 0h24v24H0V0z\" fill=\"none\"/>\n",
              "    <path d=\"M18.56 5.44l.94 2.06.94-2.06 2.06-.94-2.06-.94-.94-2.06-.94 2.06-2.06.94zm-11 1L8.5 8.5l.94-2.06 2.06-.94-2.06-.94L8.5 2.5l-.94 2.06-2.06.94zm10 10l.94 2.06.94-2.06 2.06-.94-2.06-.94-.94-2.06-.94 2.06-2.06.94z\"/><path d=\"M17.41 7.96l-1.37-1.37c-.4-.4-.92-.59-1.43-.59-.52 0-1.04.2-1.43.59L10.3 9.45l-7.72 7.72c-.78.78-.78 2.05 0 2.83L4 21.41c.39.39.9.59 1.41.59.51 0 1.02-.2 1.41-.59l7.78-7.78 2.81-2.81c.8-.78.8-2.07 0-2.86zM5.41 20L4 18.59l7.72-7.72 1.47 1.35L5.41 20z\"/>\n",
              "  </svg>\n",
              "      </button>\n",
              "      \n",
              "  <style>\n",
              "    .colab-df-container {\n",
              "      display:flex;\n",
              "      flex-wrap:wrap;\n",
              "      gap: 12px;\n",
              "    }\n",
              "\n",
              "    .colab-df-convert {\n",
              "      background-color: #E8F0FE;\n",
              "      border: none;\n",
              "      border-radius: 50%;\n",
              "      cursor: pointer;\n",
              "      display: none;\n",
              "      fill: #1967D2;\n",
              "      height: 32px;\n",
              "      padding: 0 0 0 0;\n",
              "      width: 32px;\n",
              "    }\n",
              "\n",
              "    .colab-df-convert:hover {\n",
              "      background-color: #E2EBFA;\n",
              "      box-shadow: 0px 1px 2px rgba(60, 64, 67, 0.3), 0px 1px 3px 1px rgba(60, 64, 67, 0.15);\n",
              "      fill: #174EA6;\n",
              "    }\n",
              "\n",
              "    [theme=dark] .colab-df-convert {\n",
              "      background-color: #3B4455;\n",
              "      fill: #D2E3FC;\n",
              "    }\n",
              "\n",
              "    [theme=dark] .colab-df-convert:hover {\n",
              "      background-color: #434B5C;\n",
              "      box-shadow: 0px 1px 3px 1px rgba(0, 0, 0, 0.15);\n",
              "      filter: drop-shadow(0px 1px 2px rgba(0, 0, 0, 0.3));\n",
              "      fill: #FFFFFF;\n",
              "    }\n",
              "  </style>\n",
              "\n",
              "      <script>\n",
              "        const buttonEl =\n",
              "          document.querySelector('#df-7cc479d1-ec9c-460a-a97d-416d563ed69b button.colab-df-convert');\n",
              "        buttonEl.style.display =\n",
              "          google.colab.kernel.accessAllowed ? 'block' : 'none';\n",
              "\n",
              "        async function convertToInteractive(key) {\n",
              "          const element = document.querySelector('#df-7cc479d1-ec9c-460a-a97d-416d563ed69b');\n",
              "          const dataTable =\n",
              "            await google.colab.kernel.invokeFunction('convertToInteractive',\n",
              "                                                     [key], {});\n",
              "          if (!dataTable) return;\n",
              "\n",
              "          const docLinkHtml = 'Like what you see? Visit the ' +\n",
              "            '<a target=\"_blank\" href=https://colab.research.google.com/notebooks/data_table.ipynb>data table notebook</a>'\n",
              "            + ' to learn more about interactive tables.';\n",
              "          element.innerHTML = '';\n",
              "          dataTable['output_type'] = 'display_data';\n",
              "          await google.colab.output.renderOutput(dataTable, element);\n",
              "          const docLink = document.createElement('div');\n",
              "          docLink.innerHTML = docLinkHtml;\n",
              "          element.appendChild(docLink);\n",
              "        }\n",
              "      </script>\n",
              "    </div>\n",
              "  </div>\n",
              "  "
            ]
          },
          "metadata": {},
          "execution_count": 15
        }
      ],
      "source": [
        "low, high = df[\"surface_covered_in_m2\"].quantile([0.1, 0.9])\n",
        "mask_area = df[\"surface_covered_in_m2\"].between(low, high)\n",
        "df = df[mask_area]\n",
        "df.head()"
      ]
    },
    {
      "cell_type": "markdown",
      "metadata": {
        "id": "BHgGQNI0STrx"
      },
      "source": [
        "# 3. Split Data"
      ]
    },
    {
      "cell_type": "markdown",
      "metadata": {
        "id": "2duAV5feSXNm"
      },
      "source": [
        "### Split Data"
      ]
    },
    {
      "cell_type": "code",
      "execution_count": 16,
      "metadata": {
        "colab": {
          "base_uri": "https://localhost:8080/"
        },
        "id": "ng9XzRWfSYpY",
        "outputId": "03e3b910-02de-4972-f62a-535d5e144194"
      },
      "outputs": [
        {
          "output_type": "stream",
          "name": "stdout",
          "text": [
            "X shape: (1101, 4)\n",
            "y shape: (1101,)\n"
          ]
        }
      ],
      "source": [
        "target = \"price_aprox_usd\"\n",
        "X = df.drop(columns = [target])\n",
        "y = df[target]\n",
        "print(\"X shape:\", X.shape)\n",
        "print(\"y shape:\", y.shape)"
      ]
    },
    {
      "cell_type": "code",
      "execution_count": 17,
      "metadata": {
        "colab": {
          "base_uri": "https://localhost:8080/"
        },
        "id": "MtQvvFEST9Sv",
        "outputId": "ab94d884-c833-47ae-fa8b-9a996fd93608"
      },
      "outputs": [
        {
          "output_type": "stream",
          "name": "stdout",
          "text": [
            "X_train shape: (880, 4)\n",
            "y_train shape: (880,)\n",
            "X_test shape: (221, 4)\n",
            "y_test shape: (221,)\n"
          ]
        }
      ],
      "source": [
        "X_train, X_val, y_train, y_val = train_test_split(X, y, test_size = 0.2, \n",
        "                                                 random_state = 42)\n",
        "print(\"X_train shape:\", X_train.shape)\n",
        "print(\"y_train shape:\", y_train.shape)\n",
        "print(\"X_test shape:\", X_val.shape)\n",
        "print(\"y_test shape:\", y_val.shape)"
      ]
    },
    {
      "cell_type": "code",
      "execution_count": 18,
      "metadata": {
        "colab": {
          "base_uri": "https://localhost:8080/"
        },
        "id": "HeXHW9NrUqlt",
        "outputId": "890c5789-9657-470b-9ddc-e47674c5cebd"
      },
      "outputs": [
        {
          "output_type": "stream",
          "name": "stdout",
          "text": [
            "Baseline MAE: 17146.18\n"
          ]
        }
      ],
      "source": [
        "y_mean = y_train.mean()\n",
        "y_pred_baseline = [y_mean]*len(y_train)\n",
        "mae_baseline = mean_absolute_error(y_pred_baseline, y_train)\n",
        "print(\"Baseline MAE:\", round(mae_baseline, 2))"
      ]
    },
    {
      "cell_type": "markdown",
      "metadata": {
        "id": "1DObURZZU7vK"
      },
      "source": [
        "# 4. Build Model"
      ]
    },
    {
      "cell_type": "markdown",
      "metadata": {
        "id": "9duYhuE9U_QG"
      },
      "source": [
        "### 3.1 Linear Regression"
      ]
    },
    {
      "cell_type": "code",
      "execution_count": 19,
      "metadata": {
        "colab": {
          "base_uri": "https://localhost:8080/"
        },
        "id": "tw6kYQFEVBs9",
        "outputId": "6943695d-eb08-4175-bb51-312b7c0141cf"
      },
      "outputs": [
        {
          "output_type": "execute_result",
          "data": {
            "text/plain": [
              "Pipeline(steps=[('onehotencoder', OneHotEncoder(cols=['borough'])),\n",
              "                ('simpleimputer', SimpleImputer()),\n",
              "                ('linearregression', LinearRegression())])"
            ]
          },
          "metadata": {},
          "execution_count": 19
        }
      ],
      "source": [
        "model_lr = make_pipeline(OneHotEncoder(), SimpleImputer(), LinearRegression())\n",
        "# Fit model\n",
        "model_lr.fit(X_train, y_train)"
      ]
    },
    {
      "cell_type": "code",
      "source": [
        "y_pred = model_lr.predict(X_val)\n",
        "print(\"Training MAE:\", mean_absolute_error(y_val, y_pred))"
      ],
      "metadata": {
        "colab": {
          "base_uri": "https://localhost:8080/"
        },
        "id": "_X1c1LbVZsAs",
        "outputId": "6fad0017-5b74-4a55-e9ab-de5e976f3f2c"
      },
      "execution_count": 20,
      "outputs": [
        {
          "output_type": "stream",
          "name": "stdout",
          "text": [
            "Training MAE: 15650.600935173681\n"
          ]
        }
      ]
    },
    {
      "cell_type": "code",
      "source": [
        "X_test = pd.read_csv(\"/content/drive/MyDrive/mexico-house/mexico-city-test-features.csv\", index_col = 0)\n",
        "y_pred_test = pd.Series(model_lr.predict(X_test))\n",
        "y_pred_test.head()"
      ],
      "metadata": {
        "colab": {
          "base_uri": "https://localhost:8080/"
        },
        "id": "-hjJxPTvaMAd",
        "outputId": "cc61c8a6-4d25-41c8-d70b-515e790eddcf"
      },
      "execution_count": 21,
      "outputs": [
        {
          "output_type": "execute_result",
          "data": {
            "text/plain": [
              "0    55179.029052\n",
              "1    54084.676662\n",
              "2    29985.382407\n",
              "3    55095.737859\n",
              "4    67672.108888\n",
              "dtype: float64"
            ]
          },
          "metadata": {},
          "execution_count": 21
        }
      ]
    },
    {
      "cell_type": "markdown",
      "source": [
        "Communicate Results"
      ],
      "metadata": {
        "id": "7BUxTgwVb3xp"
      }
    },
    {
      "cell_type": "code",
      "source": [
        "intercept = model_lr.named_steps[\"linearregression\"].intercept_\n",
        "coefficients = model_lr.named_steps[\"linearregression\"].coef_\n",
        "print(\"coefficients len:\", len(coefficients))\n",
        "print(coefficients[:5])  # First five coefficients"
      ],
      "metadata": {
        "colab": {
          "base_uri": "https://localhost:8080/"
        },
        "id": "-spgJaGJb2sT",
        "outputId": "9aa4ec1d-f9d6-427c-866d-0830c7afe235"
      },
      "execution_count": 29,
      "outputs": [
        {
          "output_type": "stream",
          "name": "stdout",
          "text": [
            "coefficients len: 17\n",
            "[   337.66105386 -25985.07377873 -34275.67725304   4952.8141056\n",
            "  13434.81381221]\n"
          ]
        }
      ]
    },
    {
      "cell_type": "code",
      "source": [
        "feature_names = model_lr.named_steps[\"onehotencoder\"].get_feature_names_out()\n",
        "print(\"features len:\", len(feature_names))\n",
        "print(feature_names[:5])  # First five feature names"
      ],
      "metadata": {
        "colab": {
          "base_uri": "https://localhost:8080/"
        },
        "id": "BMOpnKbsdCej",
        "outputId": "5853cfcb-925b-4dda-f2ed-96ceac48ce32"
      },
      "execution_count": 31,
      "outputs": [
        {
          "output_type": "stream",
          "name": "stdout",
          "text": [
            "features len: 17\n",
            "['surface_covered_in_m2', 'lat', 'lon', 'borough_1', 'borough_2']\n"
          ]
        }
      ]
    },
    {
      "cell_type": "code",
      "source": [
        "feat_imp = pd.Series(coefficients, index = feature_names)\n",
        "feat_imp.head()"
      ],
      "metadata": {
        "colab": {
          "base_uri": "https://localhost:8080/"
        },
        "id": "Zn1kCz6GdKX2",
        "outputId": "ad67319e-364a-42af-f1de-8b41f5fad54a"
      },
      "execution_count": 32,
      "outputs": [
        {
          "output_type": "execute_result",
          "data": {
            "text/plain": [
              "surface_covered_in_m2      337.661054\n",
              "lat                     -25985.073779\n",
              "lon                     -34275.677253\n",
              "borough_1                 4952.814106\n",
              "borough_2                13434.813812\n",
              "dtype: float64"
            ]
          },
          "metadata": {},
          "execution_count": 32
        }
      ]
    },
    {
      "cell_type": "code",
      "source": [
        "print(f\"price = {intercept.round(2)}\")\n",
        "for f, c in feat_imp.items():\n",
        "    print(f\"+ ({round(c, 2)} * {f})\")"
      ],
      "metadata": {
        "colab": {
          "base_uri": "https://localhost:8080/"
        },
        "id": "NYQUom9CdUAd",
        "outputId": "d74ec2a1-cb19-4218-aa64-6e94b891f46a"
      },
      "execution_count": 33,
      "outputs": [
        {
          "output_type": "stream",
          "name": "stdout",
          "text": [
            "price = -2865001.11\n",
            "+ (337.66 * surface_covered_in_m2)\n",
            "+ (-25985.07 * lat)\n",
            "+ (-34275.68 * lon)\n",
            "+ (4952.81 * borough_1)\n",
            "+ (13434.81 * borough_2)\n",
            "+ (3615.74 * borough_3)\n",
            "+ (-3327.49 * borough_4)\n",
            "+ (3208.87 * borough_5)\n",
            "+ (675.15 * borough_6)\n",
            "+ (1951.57 * borough_7)\n",
            "+ (7232.75 * borough_8)\n",
            "+ (-14570.9 * borough_9)\n",
            "+ (-12375.02 * borough_10)\n",
            "+ (6107.89 * borough_11)\n",
            "+ (7302.01 * borough_12)\n",
            "+ (-1464.3 * borough_13)\n",
            "+ (-16743.89 * borough_14)\n"
          ]
        }
      ]
    },
    {
      "cell_type": "code",
      "source": [
        "feat_imp.sort_values(key=abs).tail(15).plot(kind = \"barh\")\n",
        "plt.xlabel(\"Importance [USD]\")\n",
        "plt.ylabel(\"Feature\")\n",
        "plt.title(\"Feature Importance for Apartment Price\")"
      ],
      "metadata": {
        "colab": {
          "base_uri": "https://localhost:8080/",
          "height": 312
        },
        "id": "MmVe-n2qdXGP",
        "outputId": "a25283e1-19d1-4746-b542-c1fb97c5630c"
      },
      "execution_count": 34,
      "outputs": [
        {
          "output_type": "execute_result",
          "data": {
            "text/plain": [
              "Text(0.5, 1.0, 'Feature Importance for Apartment Price')"
            ]
          },
          "metadata": {},
          "execution_count": 34
        },
        {
          "output_type": "display_data",
          "data": {
            "text/plain": [
              "<Figure size 432x288 with 1 Axes>"
            ],
            "image/png": "[encoded data removed]"
          },
          "metadata": {
            "needs_background": "light"
          }
        }
      ]
    },
    {
      "cell_type": "markdown",
      "source": [
        "### 3.2 Ridge"
      ],
      "metadata": {
        "id": "ZdLzAwJydbyb"
      }
    },
    {
      "cell_type": "code",
      "source": [
        "model_ridge = make_pipeline(OneHotEncoder(), SimpleImputer(), Ridge())\n",
        "model_ridge.fit(X_train, y_train)"
      ],
      "metadata": {
        "colab": {
          "base_uri": "https://localhost:8080/"
        },
        "id": "gxIj-qEddeBw",
        "outputId": "0aa16f7c-3f5c-4433-ed8a-89a2d74512ed"
      },
      "execution_count": 35,
      "outputs": [
        {
          "output_type": "execute_result",
          "data": {
            "text/plain": [
              "Pipeline(steps=[('onehotencoder', OneHotEncoder(cols=['borough'])),\n",
              "                ('simpleimputer', SimpleImputer()), ('ridge', Ridge())])"
            ]
          },
          "metadata": {},
          "execution_count": 35
        }
      ]
    },
    {
      "cell_type": "code",
      "source": [
        "y_pred = model_ridge.predict(X_val)\n",
        "print(\"Training MAE:\", mean_absolute_error(y_val, y_pred))"
      ],
      "metadata": {
        "colab": {
          "base_uri": "https://localhost:8080/"
        },
        "id": "f22Q1TP8drCl",
        "outputId": "e61c6e05-b664-4d60-8a06-69314f4db5b0"
      },
      "execution_count": 36,
      "outputs": [
        {
          "output_type": "stream",
          "name": "stdout",
          "text": [
            "Training MAE: 15712.621701521428\n"
          ]
        }
      ]
    },
    {
      "cell_type": "code",
      "source": [
        "y_pred_test = pd.Series(model_ridge.predict(X_test))\n",
        "y_pred_test.head()"
      ],
      "metadata": {
        "colab": {
          "base_uri": "https://localhost:8080/"
        },
        "id": "gLYDquK9d3BZ",
        "outputId": "3ded6355-c3d0-4854-e93b-037075b04f7e"
      },
      "execution_count": 37,
      "outputs": [
        {
          "output_type": "execute_result",
          "data": {
            "text/plain": [
              "0    54764.970002\n",
              "1    52529.193734\n",
              "2    31854.424129\n",
              "3    54719.410221\n",
              "4    68035.184270\n",
              "dtype: float64"
            ]
          },
          "metadata": {},
          "execution_count": 37
        }
      ]
    },
    {
      "cell_type": "markdown",
      "source": [
        "Communicate Results"
      ],
      "metadata": {
        "id": "4DriSgmReEOJ"
      }
    },
    {
      "cell_type": "code",
      "source": [
        "coefficients = model_ridge.named_steps[\"ridge\"].coef_\n",
        "features = model_ridge.named_steps[\"onehotencoder\"].get_feature_names_out()\n",
        "feat_imp = pd.Series(coefficients, index = features)\n",
        "feat_imp"
      ],
      "metadata": {
        "colab": {
          "base_uri": "https://localhost:8080/"
        },
        "id": "ZoN852fwexo3",
        "outputId": "e83a7d6e-a585-4e3a-9290-8cd874d185f6"
      },
      "execution_count": 46,
      "outputs": [
        {
          "output_type": "execute_result",
          "data": {
            "text/plain": [
              "surface_covered_in_m2      345.829925\n",
              "lat                      -6954.319296\n",
              "lon                     -10585.223783\n",
              "borough_1                 3206.454118\n",
              "borough_2                13269.653039\n",
              "borough_3                 4954.898879\n",
              "borough_4                -5182.775767\n",
              "borough_5                 3484.798652\n",
              "borough_6                 -483.423916\n",
              "borough_7                 1537.108371\n",
              "borough_8                 9025.360476\n",
              "borough_9               -14815.164985\n",
              "borough_10              -13412.623539\n",
              "borough_11                4871.091603\n",
              "borough_12                7399.403262\n",
              "borough_13               -3883.261537\n",
              "borough_14               -9971.518655\n",
              "dtype: float64"
            ]
          },
          "metadata": {},
          "execution_count": 46
        }
      ]
    },
    {
      "cell_type": "code",
      "source": [
        "feat_imp = pd.Series(coefficients, index = feature_names)\n",
        "feat_imp.head()"
      ],
      "metadata": {
        "colab": {
          "base_uri": "https://localhost:8080/"
        },
        "id": "LvFrPjp2e00b",
        "outputId": "a4cfaeeb-e9d0-4bef-8a52-34f769fa527f"
      },
      "execution_count": 47,
      "outputs": [
        {
          "output_type": "execute_result",
          "data": {
            "text/plain": [
              "surface_covered_in_m2      345.829925\n",
              "lat                      -6954.319296\n",
              "lon                     -10585.223783\n",
              "borough_1                 3206.454118\n",
              "borough_2                13269.653039\n",
              "dtype: float64"
            ]
          },
          "metadata": {},
          "execution_count": 47
        }
      ]
    },
    {
      "cell_type": "code",
      "source": [
        "feat_imp.sort_values(key=abs).tail(15).plot(kind = \"barh\")\n",
        "plt.xlabel(\"Importance [USD]\")\n",
        "plt.ylabel(\"Feature\")\n",
        "plt.title(\"Feature Importance for Apartment Price\")"
      ],
      "metadata": {
        "colab": {
          "base_uri": "https://localhost:8080/",
          "height": 312
        },
        "id": "Dn89qb7lfDQu",
        "outputId": "304b5aa0-a53c-4010-ac48-fae86f4d0f64"
      },
      "execution_count": 48,
      "outputs": [
        {
          "output_type": "execute_result",
          "data": {
            "text/plain": [
              "Text(0.5, 1.0, 'Feature Importance for Apartment Price')"
            ]
          },
          "metadata": {},
          "execution_count": 48
        },
        {
          "output_type": "display_data",
          "data": {
            "text/plain": [
              "<Figure size 432x288 with 1 Axes>"
            ],
            "image/png": "[encoded data removed]"
          },
          "metadata": {
            "needs_background": "light"
          }
        }
      ]
    }
  ],
  "metadata": {
    "colab": {
      "provenance": [],
      "authorship_tag": "ABX9TyPuqK1VN4faqme/J3Dro62E",
      "include_colab_link": true
    },
    "kernelspec": {
      "display_name": "Python 3",
      "name": "python3"
    },
    "language_info": {
      "name": "python"
    }
  },
  "nbformat": 4,
  "nbformat_minor": 0
}